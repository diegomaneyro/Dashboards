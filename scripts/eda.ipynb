{
 "cells": [
  {
   "cell_type": "markdown",
   "metadata": {},
   "source": [
    "<h3 align='center'>\n",
    "    Analsis exploratorio de los datos - EDA\n",
    "<h3/>"
   ]
  },
  {
   "cell_type": "markdown",
   "metadata": {},
   "source": [
    "El objetivo principal del EDA es obtener una comprensión sólida de tus datos, lo que te ayudará a tomar decisiones informadas sobre el enfoque de tu análisis subsiguiente y a identificar posibles problemas en los datos que necesiten ser abordados antes de avanzar en el análisis."
   ]
  },
  {
   "cell_type": "code",
   "execution_count": 2,
   "metadata": {},
   "outputs": [],
   "source": [
    "# importar librerias\n",
    "import pandas as pd"
   ]
  },
  {
   "cell_type": "code",
   "execution_count": 4,
   "metadata": {},
   "outputs": [],
   "source": [
    "# Leer datos desde csv en dataframe de pandas\n",
    "encoding = \"utf8\"\n",
    "\n",
    "clientes = pd.read_csv(\"..\\datos\\csvs_limpios\\Clientes.csv\", sep=\";\", encoding=encoding)\n",
    "compra = pd.read_csv(\"..\\datos\\csvs_limpios\\Compra.csv\", sep=\",\", encoding=encoding)\n",
    "empleados = pd.read_csv(\"..\\datos\\csvs_limpios\\Empleados.csv\", sep=\",\", encoding=encoding)\n",
    "gasto = pd.read_csv(\"..\\datos\\csvs_limpios\\Gasto.csv\", sep=\",\", encoding=encoding)\n",
    "productos = pd.read_csv(\"..\\datos\\csvs_limpios\\Productos.csv\", sep=\",\", encoding=encoding)\n",
    "proveedores = pd.read_csv(\"..\\datos\\csvs_limpios\\Proveedores.csv\", sep=\",\", encoding=encoding)\n",
    "sucursales = pd.read_csv(\"..\\datos\\csvs_limpios\\Sucursales.csv\", sep=\";\",encoding=encoding)\n",
    "venta = pd.read_csv(\"..\\datos\\csvs_limpios\\Venta.csv\", sep=\",\", encoding=encoding)"
   ]
  },
  {
   "cell_type": "markdown",
   "metadata": {},
   "source": [
    "* Resumen estadistico"
   ]
  },
  {
   "cell_type": "code",
   "execution_count": null,
   "metadata": {},
   "outputs": [
    {
     "data": {
      "text/html": [
       "<div>\n",
       "<style scoped>\n",
       "    .dataframe tbody tr th:only-of-type {\n",
       "        vertical-align: middle;\n",
       "    }\n",
       "\n",
       "    .dataframe tbody tr th {\n",
       "        vertical-align: top;\n",
       "    }\n",
       "\n",
       "    .dataframe thead th {\n",
       "        text-align: right;\n",
       "    }\n",
       "</style>\n",
       "<table border=\"1\" class=\"dataframe\">\n",
       "  <thead>\n",
       "    <tr style=\"text-align: right;\">\n",
       "      <th></th>\n",
       "      <th>ID</th>\n",
       "    </tr>\n",
       "  </thead>\n",
       "  <tbody>\n",
       "    <tr>\n",
       "      <th>count</th>\n",
       "      <td>3407.000000</td>\n",
       "    </tr>\n",
       "    <tr>\n",
       "      <th>mean</th>\n",
       "      <td>1704.000000</td>\n",
       "    </tr>\n",
       "    <tr>\n",
       "      <th>std</th>\n",
       "      <td>983.660511</td>\n",
       "    </tr>\n",
       "    <tr>\n",
       "      <th>min</th>\n",
       "      <td>1.000000</td>\n",
       "    </tr>\n",
       "    <tr>\n",
       "      <th>25%</th>\n",
       "      <td>852.500000</td>\n",
       "    </tr>\n",
       "    <tr>\n",
       "      <th>50%</th>\n",
       "      <td>1704.000000</td>\n",
       "    </tr>\n",
       "    <tr>\n",
       "      <th>75%</th>\n",
       "      <td>2555.500000</td>\n",
       "    </tr>\n",
       "    <tr>\n",
       "      <th>max</th>\n",
       "      <td>3407.000000</td>\n",
       "    </tr>\n",
       "  </tbody>\n",
       "</table>\n",
       "</div>"
      ],
      "text/plain": [
       "                ID\n",
       "count  3407.000000\n",
       "mean   1704.000000\n",
       "std     983.660511\n",
       "min       1.000000\n",
       "25%     852.500000\n",
       "50%    1704.000000\n",
       "75%    2555.500000\n",
       "max    3407.000000"
      ]
     },
     "execution_count": 8,
     "metadata": {},
     "output_type": "execute_result"
    }
   ],
   "source": [
    "#  Calcula estadísticas descriptivas como la media, la mediana, la desviación estándar, el rango y los cuartiles para comprender la distribución de tus datos\n",
    "clientes.describe()"
   ]
  }
 ],
 "metadata": {
  "kernelspec": {
   "display_name": "Python 3",
   "language": "python",
   "name": "python3"
  },
  "language_info": {
   "codemirror_mode": {
    "name": "ipython",
    "version": 3
   },
   "file_extension": ".py",
   "mimetype": "text/x-python",
   "name": "python",
   "nbconvert_exporter": "python",
   "pygments_lexer": "ipython3",
   "version": "3.11.2"
  }
 },
 "nbformat": 4,
 "nbformat_minor": 2
}
