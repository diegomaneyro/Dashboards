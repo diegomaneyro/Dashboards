{
 "cells": [
  {
   "cell_type": "markdown",
   "metadata": {},
   "source": [
    "<h3 align='center'>\n",
    "    Análisis exploratorio de los datos - EDA\n",
    "<h3/>"
   ]
  },
  {
   "cell_type": "markdown",
   "metadata": {},
   "source": [
    "El objetivo principal del EDA es obtener una comprensión sólida de tus datos, lo que te ayudará a tomar decisiones informadas sobre el enfoque de tu análisis subsiguiente y a identificar posibles problemas en los datos que necesiten ser abordados antes de avanzar en el análisis."
   ]
  },
  {
   "cell_type": "code",
   "execution_count": 16,
   "metadata": {},
   "outputs": [],
   "source": [
    "# importar librerias\n",
    "import pandas as pd\n",
    "import seaborn as sns\n",
    "import matplotlib.pyplot as plt"
   ]
  },
  {
   "cell_type": "code",
   "execution_count": 2,
   "metadata": {},
   "outputs": [],
   "source": [
    "# Leer datos desde csv en dataframe de pandas\n",
    "encoding = \"utf8\"\n",
    "\n",
    "clientes = pd.read_csv(\"..\\datos\\csvs_limpios\\Clientes.csv\", sep=\",\", encoding=encoding)\n",
    "compra = pd.read_csv(\"..\\datos\\csvs_limpios\\Compra.csv\", sep=\",\", encoding=encoding)\n",
    "empleados = pd.read_csv(\"..\\datos\\csvs_limpios\\Empleados.csv\", sep=\",\", encoding=encoding)\n",
    "gasto = pd.read_csv(\"..\\datos\\csvs_limpios\\Gasto.csv\", sep=\",\", encoding=encoding)\n",
    "productos = pd.read_csv(\"..\\datos\\csvs_limpios\\Productos.csv\", sep=\",\", encoding=encoding)\n",
    "proveedores = pd.read_csv(\"..\\datos\\csvs_limpios\\Proveedores.csv\", sep=\",\", encoding=encoding)\n",
    "sucursales = pd.read_csv(\"..\\datos\\csvs_limpios\\Sucursales.csv\", sep=\";\",encoding=encoding)\n",
    "venta = pd.read_csv(\"..\\datos\\csvs_limpios\\Venta.csv\", sep=\",\", encoding=encoding)"
   ]
  },
  {
   "cell_type": "markdown",
   "metadata": {},
   "source": [
    "#### Resumen estadistico"
   ]
  },
  {
   "cell_type": "markdown",
   "metadata": {},
   "source": [
    "* clientes"
   ]
  },
  {
   "cell_type": "code",
   "execution_count": 3,
   "metadata": {},
   "outputs": [
    {
     "data": {
      "text/html": [
       "<div>\n",
       "<style scoped>\n",
       "    .dataframe tbody tr th:only-of-type {\n",
       "        vertical-align: middle;\n",
       "    }\n",
       "\n",
       "    .dataframe tbody tr th {\n",
       "        vertical-align: top;\n",
       "    }\n",
       "\n",
       "    .dataframe thead th {\n",
       "        text-align: right;\n",
       "    }\n",
       "</style>\n",
       "<table border=\"1\" class=\"dataframe\">\n",
       "  <thead>\n",
       "    <tr style=\"text-align: right;\">\n",
       "      <th></th>\n",
       "      <th>ID</th>\n",
       "      <th>Provincia</th>\n",
       "      <th>Nombre_y_Apellido</th>\n",
       "      <th>Domicilio</th>\n",
       "      <th>Telefono</th>\n",
       "    </tr>\n",
       "  </thead>\n",
       "  <tbody>\n",
       "    <tr>\n",
       "      <th>0</th>\n",
       "      <td>1</td>\n",
       "      <td>Buenos Aires</td>\n",
       "      <td>HEBER JONI SANTANA</td>\n",
       "      <td>LAS HERAS Y BAT. 24 DE FEBRERO 4150  RINCON DE...</td>\n",
       "      <td>425161</td>\n",
       "    </tr>\n",
       "    <tr>\n",
       "      <th>1</th>\n",
       "      <td>2</td>\n",
       "      <td>Buenos Aires</td>\n",
       "      <td>ANA SAPRIZA</td>\n",
       "      <td>PUEYRREDON Y DUPUY RUTA3 KM 52.500 S/N  BÂº LO...</td>\n",
       "      <td>497578</td>\n",
       "    </tr>\n",
       "    <tr>\n",
       "      <th>2</th>\n",
       "      <td>3</td>\n",
       "      <td>Buenos Aires</td>\n",
       "      <td>FERNANDO LUIS SARALEGUI</td>\n",
       "      <td>CALDERON DE LA BARCA 498</td>\n",
       "      <td>493435</td>\n",
       "    </tr>\n",
       "    <tr>\n",
       "      <th>3</th>\n",
       "      <td>4</td>\n",
       "      <td>Buenos Aires</td>\n",
       "      <td>MANUELA SARASOLA</td>\n",
       "      <td>RUTA 36 KM 45,500 S/N  EL PELIGRO</td>\n",
       "      <td>492883</td>\n",
       "    </tr>\n",
       "    <tr>\n",
       "      <th>4</th>\n",
       "      <td>5</td>\n",
       "      <td>Buenos Aires</td>\n",
       "      <td>MARIO RAÚL SARASUA</td>\n",
       "      <td>492 Y 186 S/N  COLONIA URQUIZA</td>\n",
       "      <td>4914608</td>\n",
       "    </tr>\n",
       "  </tbody>\n",
       "</table>\n",
       "</div>"
      ],
      "text/plain": [
       "   ID     Provincia        Nombre_y_Apellido   \n",
       "0   1  Buenos Aires       HEBER JONI SANTANA  \\\n",
       "1   2  Buenos Aires              ANA SAPRIZA   \n",
       "2   3  Buenos Aires  FERNANDO LUIS SARALEGUI   \n",
       "3   4  Buenos Aires         MANUELA SARASOLA   \n",
       "4   5  Buenos Aires       MARIO RAÚL SARASUA   \n",
       "\n",
       "                                           Domicilio Telefono  \n",
       "0  LAS HERAS Y BAT. 24 DE FEBRERO 4150  RINCON DE...   425161  \n",
       "1  PUEYRREDON Y DUPUY RUTA3 KM 52.500 S/N  BÂº LO...   497578  \n",
       "2                           CALDERON DE LA BARCA 498   493435  \n",
       "3                  RUTA 36 KM 45,500 S/N  EL PELIGRO   492883  \n",
       "4                     492 Y 186 S/N  COLONIA URQUIZA  4914608  "
      ]
     },
     "execution_count": 3,
     "metadata": {},
     "output_type": "execute_result"
    }
   ],
   "source": [
    "# Exploracion de df\n",
    "clientes.head()"
   ]
  },
  {
   "cell_type": "code",
   "execution_count": 4,
   "metadata": {},
   "outputs": [
    {
     "data": {
      "text/html": [
       "<div>\n",
       "<style scoped>\n",
       "    .dataframe tbody tr th:only-of-type {\n",
       "        vertical-align: middle;\n",
       "    }\n",
       "\n",
       "    .dataframe tbody tr th {\n",
       "        vertical-align: top;\n",
       "    }\n",
       "\n",
       "    .dataframe thead th {\n",
       "        text-align: right;\n",
       "    }\n",
       "</style>\n",
       "<table border=\"1\" class=\"dataframe\">\n",
       "  <thead>\n",
       "    <tr style=\"text-align: right;\">\n",
       "      <th></th>\n",
       "      <th>ID</th>\n",
       "    </tr>\n",
       "  </thead>\n",
       "  <tbody>\n",
       "    <tr>\n",
       "      <th>count</th>\n",
       "      <td>3407.000000</td>\n",
       "    </tr>\n",
       "    <tr>\n",
       "      <th>mean</th>\n",
       "      <td>1704.000000</td>\n",
       "    </tr>\n",
       "    <tr>\n",
       "      <th>std</th>\n",
       "      <td>983.660511</td>\n",
       "    </tr>\n",
       "    <tr>\n",
       "      <th>min</th>\n",
       "      <td>1.000000</td>\n",
       "    </tr>\n",
       "    <tr>\n",
       "      <th>25%</th>\n",
       "      <td>852.500000</td>\n",
       "    </tr>\n",
       "    <tr>\n",
       "      <th>50%</th>\n",
       "      <td>1704.000000</td>\n",
       "    </tr>\n",
       "    <tr>\n",
       "      <th>75%</th>\n",
       "      <td>2555.500000</td>\n",
       "    </tr>\n",
       "    <tr>\n",
       "      <th>max</th>\n",
       "      <td>3407.000000</td>\n",
       "    </tr>\n",
       "  </tbody>\n",
       "</table>\n",
       "</div>"
      ],
      "text/plain": [
       "                ID\n",
       "count  3407.000000\n",
       "mean   1704.000000\n",
       "std     983.660511\n",
       "min       1.000000\n",
       "25%     852.500000\n",
       "50%    1704.000000\n",
       "75%    2555.500000\n",
       "max    3407.000000"
      ]
     },
     "execution_count": 4,
     "metadata": {},
     "output_type": "execute_result"
    }
   ],
   "source": [
    "#  Estadísticas descriptiva: media, mediana, desviación estándar, el rango y los cuartiles para comprender la distribución de los datos\n",
    "clientes.describe()"
   ]
  },
  {
   "cell_type": "code",
   "execution_count": 5,
   "metadata": {},
   "outputs": [
    {
     "name": "stdout",
     "output_type": "stream",
     "text": [
      "<class 'pandas.core.frame.DataFrame'>\n",
      "RangeIndex: 3407 entries, 0 to 3406\n",
      "Data columns (total 5 columns):\n",
      " #   Column             Non-Null Count  Dtype \n",
      "---  ------             --------------  ----- \n",
      " 0   ID                 3407 non-null   int64 \n",
      " 1   Provincia          3407 non-null   object\n",
      " 2   Nombre_y_Apellido  3407 non-null   object\n",
      " 3   Domicilio          3407 non-null   object\n",
      " 4   Telefono           3317 non-null   object\n",
      "dtypes: int64(1), object(4)\n",
      "memory usage: 133.2+ KB\n"
     ]
    }
   ],
   "source": [
    "clientes.info()"
   ]
  },
  {
   "cell_type": "markdown",
   "metadata": {},
   "source": [
    "La tabla clientes no contiene datos de tipo numerico excepto el id de clientes "
   ]
  },
  {
   "cell_type": "markdown",
   "metadata": {},
   "source": [
    "* Compra"
   ]
  },
  {
   "cell_type": "code",
   "execution_count": 8,
   "metadata": {},
   "outputs": [
    {
     "data": {
      "text/html": [
       "<div>\n",
       "<style scoped>\n",
       "    .dataframe tbody tr th:only-of-type {\n",
       "        vertical-align: middle;\n",
       "    }\n",
       "\n",
       "    .dataframe tbody tr th {\n",
       "        vertical-align: top;\n",
       "    }\n",
       "\n",
       "    .dataframe thead th {\n",
       "        text-align: right;\n",
       "    }\n",
       "</style>\n",
       "<table border=\"1\" class=\"dataframe\">\n",
       "  <thead>\n",
       "    <tr style=\"text-align: right;\">\n",
       "      <th></th>\n",
       "      <th>IdCompra</th>\n",
       "      <th>Fecha</th>\n",
       "      <th>IdProducto</th>\n",
       "      <th>Cantidad</th>\n",
       "      <th>Precio</th>\n",
       "      <th>IdProveedor</th>\n",
       "    </tr>\n",
       "  </thead>\n",
       "  <tbody>\n",
       "    <tr>\n",
       "      <th>0</th>\n",
       "      <td>1</td>\n",
       "      <td>2015-01-30</td>\n",
       "      <td>42832</td>\n",
       "      <td>13</td>\n",
       "      <td>560.51</td>\n",
       "      <td>12</td>\n",
       "    </tr>\n",
       "    <tr>\n",
       "      <th>1</th>\n",
       "      <td>2</td>\n",
       "      <td>2015-01-30</td>\n",
       "      <td>42833</td>\n",
       "      <td>11</td>\n",
       "      <td>497.58</td>\n",
       "      <td>7</td>\n",
       "    </tr>\n",
       "    <tr>\n",
       "      <th>2</th>\n",
       "      <td>3</td>\n",
       "      <td>2015-01-30</td>\n",
       "      <td>42834</td>\n",
       "      <td>1</td>\n",
       "      <td>588.50</td>\n",
       "      <td>6</td>\n",
       "    </tr>\n",
       "    <tr>\n",
       "      <th>3</th>\n",
       "      <td>4</td>\n",
       "      <td>2015-01-30</td>\n",
       "      <td>42835</td>\n",
       "      <td>9</td>\n",
       "      <td>567.66</td>\n",
       "      <td>14</td>\n",
       "    </tr>\n",
       "    <tr>\n",
       "      <th>4</th>\n",
       "      <td>5</td>\n",
       "      <td>2015-01-30</td>\n",
       "      <td>42839</td>\n",
       "      <td>14</td>\n",
       "      <td>231.31</td>\n",
       "      <td>2</td>\n",
       "    </tr>\n",
       "  </tbody>\n",
       "</table>\n",
       "</div>"
      ],
      "text/plain": [
       "   IdCompra       Fecha  IdProducto  Cantidad  Precio  IdProveedor\n",
       "0         1  2015-01-30       42832        13  560.51           12\n",
       "1         2  2015-01-30       42833        11  497.58            7\n",
       "2         3  2015-01-30       42834         1  588.50            6\n",
       "3         4  2015-01-30       42835         9  567.66           14\n",
       "4         5  2015-01-30       42839        14  231.31            2"
      ]
     },
     "execution_count": 8,
     "metadata": {},
     "output_type": "execute_result"
    }
   ],
   "source": [
    "compra.head()"
   ]
  },
  {
   "cell_type": "code",
   "execution_count": 13,
   "metadata": {},
   "outputs": [],
   "source": [
    "# Convertir la columna fecha a datetima\n",
    "compra['Fecha'] = pd.to_datetime(compra['Fecha'])"
   ]
  },
  {
   "cell_type": "code",
   "execution_count": 14,
   "metadata": {},
   "outputs": [
    {
     "name": "stdout",
     "output_type": "stream",
     "text": [
      "<class 'pandas.core.frame.DataFrame'>\n",
      "RangeIndex: 11539 entries, 0 to 11538\n",
      "Data columns (total 6 columns):\n",
      " #   Column       Non-Null Count  Dtype         \n",
      "---  ------       --------------  -----         \n",
      " 0   IdCompra     11539 non-null  int64         \n",
      " 1   Fecha        11539 non-null  datetime64[ns]\n",
      " 2   IdProducto   11539 non-null  int64         \n",
      " 3   Cantidad     11539 non-null  int64         \n",
      " 4   Precio       11539 non-null  float64       \n",
      " 5   IdProveedor  11539 non-null  int64         \n",
      "dtypes: datetime64[ns](1), float64(1), int64(4)\n",
      "memory usage: 541.0 KB\n"
     ]
    }
   ],
   "source": [
    "compra.info()"
   ]
  },
  {
   "cell_type": "code",
   "execution_count": 15,
   "metadata": {},
   "outputs": [
    {
     "data": {
      "text/html": [
       "<div>\n",
       "<style scoped>\n",
       "    .dataframe tbody tr th:only-of-type {\n",
       "        vertical-align: middle;\n",
       "    }\n",
       "\n",
       "    .dataframe tbody tr th {\n",
       "        vertical-align: top;\n",
       "    }\n",
       "\n",
       "    .dataframe thead th {\n",
       "        text-align: right;\n",
       "    }\n",
       "</style>\n",
       "<table border=\"1\" class=\"dataframe\">\n",
       "  <thead>\n",
       "    <tr style=\"text-align: right;\">\n",
       "      <th></th>\n",
       "      <th>IdCompra</th>\n",
       "      <th>Fecha</th>\n",
       "      <th>IdProducto</th>\n",
       "      <th>Cantidad</th>\n",
       "      <th>Precio</th>\n",
       "      <th>IdProveedor</th>\n",
       "    </tr>\n",
       "  </thead>\n",
       "  <tbody>\n",
       "    <tr>\n",
       "      <th>count</th>\n",
       "      <td>11539.000000</td>\n",
       "      <td>11539</td>\n",
       "      <td>11539.000000</td>\n",
       "      <td>11539.000000</td>\n",
       "      <td>11539.000000</td>\n",
       "      <td>11539.000000</td>\n",
       "    </tr>\n",
       "    <tr>\n",
       "      <th>mean</th>\n",
       "      <td>5770.000000</td>\n",
       "      <td>2018-03-16 00:12:13.789756672</td>\n",
       "      <td>42900.634890</td>\n",
       "      <td>8.826415</td>\n",
       "      <td>1171.177534</td>\n",
       "      <td>7.533928</td>\n",
       "    </tr>\n",
       "    <tr>\n",
       "      <th>min</th>\n",
       "      <td>1.000000</td>\n",
       "      <td>2015-01-30 00:00:00</td>\n",
       "      <td>42737.000000</td>\n",
       "      <td>1.000000</td>\n",
       "      <td>1.860000</td>\n",
       "      <td>1.000000</td>\n",
       "    </tr>\n",
       "    <tr>\n",
       "      <th>25%</th>\n",
       "      <td>2885.500000</td>\n",
       "      <td>2016-08-26 00:00:00</td>\n",
       "      <td>42832.000000</td>\n",
       "      <td>4.000000</td>\n",
       "      <td>303.295000</td>\n",
       "      <td>4.000000</td>\n",
       "    </tr>\n",
       "    <tr>\n",
       "      <th>50%</th>\n",
       "      <td>5770.000000</td>\n",
       "      <td>2018-03-30 00:00:00</td>\n",
       "      <td>42902.000000</td>\n",
       "      <td>7.000000</td>\n",
       "      <td>448.950000</td>\n",
       "      <td>8.000000</td>\n",
       "    </tr>\n",
       "    <tr>\n",
       "      <th>75%</th>\n",
       "      <td>8654.500000</td>\n",
       "      <td>2019-11-29 00:00:00</td>\n",
       "      <td>42973.000000</td>\n",
       "      <td>12.000000</td>\n",
       "      <td>1197.550000</td>\n",
       "      <td>11.000000</td>\n",
       "    </tr>\n",
       "    <tr>\n",
       "      <th>max</th>\n",
       "      <td>11539.000000</td>\n",
       "      <td>2020-12-25 00:00:00</td>\n",
       "      <td>43043.000000</td>\n",
       "      <td>54.000000</td>\n",
       "      <td>107024.000000</td>\n",
       "      <td>14.000000</td>\n",
       "    </tr>\n",
       "    <tr>\n",
       "      <th>std</th>\n",
       "      <td>3331.166713</td>\n",
       "      <td>NaN</td>\n",
       "      <td>83.539532</td>\n",
       "      <td>6.412074</td>\n",
       "      <td>5439.951255</td>\n",
       "      <td>3.770609</td>\n",
       "    </tr>\n",
       "  </tbody>\n",
       "</table>\n",
       "</div>"
      ],
      "text/plain": [
       "           IdCompra                          Fecha    IdProducto   \n",
       "count  11539.000000                          11539  11539.000000  \\\n",
       "mean    5770.000000  2018-03-16 00:12:13.789756672  42900.634890   \n",
       "min        1.000000            2015-01-30 00:00:00  42737.000000   \n",
       "25%     2885.500000            2016-08-26 00:00:00  42832.000000   \n",
       "50%     5770.000000            2018-03-30 00:00:00  42902.000000   \n",
       "75%     8654.500000            2019-11-29 00:00:00  42973.000000   \n",
       "max    11539.000000            2020-12-25 00:00:00  43043.000000   \n",
       "std     3331.166713                            NaN     83.539532   \n",
       "\n",
       "           Cantidad         Precio   IdProveedor  \n",
       "count  11539.000000   11539.000000  11539.000000  \n",
       "mean       8.826415    1171.177534      7.533928  \n",
       "min        1.000000       1.860000      1.000000  \n",
       "25%        4.000000     303.295000      4.000000  \n",
       "50%        7.000000     448.950000      8.000000  \n",
       "75%       12.000000    1197.550000     11.000000  \n",
       "max       54.000000  107024.000000     14.000000  \n",
       "std        6.412074    5439.951255      3.770609  "
      ]
     },
     "execution_count": 15,
     "metadata": {},
     "output_type": "execute_result"
    }
   ],
   "source": [
    "compra.describe()"
   ]
  },
  {
   "cell_type": "markdown",
   "metadata": {},
   "source": [
    "* Comparacion de distribucion Media y desviacion estandar"
   ]
  },
  {
   "cell_type": "code",
   "execution_count": 37,
   "metadata": {},
   "outputs": [
    {
     "name": "stdout",
     "output_type": "stream",
     "text": [
      "La Media de Precio en Compras es: 1171.178\n",
      "La Desviacion Estandar de Precio en Compras es: 5439.951\n"
     ]
    }
   ],
   "source": [
    "# Precio Media y Mediana redondeado a 3 decimales\n",
    "mediaPrecio = compra['Precio'].mean().round(3)\n",
    "stdPrecio = compra['Precio'].std().round(3)\n",
    "print(f'La Media de Precio en Compras es: {mediaPrecio}')\n",
    "print(f'La Desviacion Estandar de Precio en Compras es: {stdPrecio}')"
   ]
  },
  {
   "cell_type": "code",
   "execution_count": 38,
   "metadata": {},
   "outputs": [
    {
     "name": "stdout",
     "output_type": "stream",
     "text": [
      "La Media de Cantidad en Compras es: 8.826\n",
      "La Desviacion Estandar de Cantidad en Compra es: 6.412\n"
     ]
    }
   ],
   "source": [
    "# Cantidad Media y Mediana \n",
    "mediaCantidad = compra['Cantidad'].mean().round(3)\n",
    "stdCantidad = compra['Cantidad'].std().round(3)\n",
    "\n",
    "print(f'La Media de Cantidad en Compras es: {mediaCantidad}')\n",
    "print(f'La Desviacion Estandar de Cantidad en Compra es: {stdCantidad}')\n"
   ]
  },
  {
   "cell_type": "markdown",
   "metadata": {},
   "source": [
    "* comparacion de distribucion Median e IQR"
   ]
  },
  {
   "cell_type": "code",
   "execution_count": 49,
   "metadata": {},
   "outputs": [
    {
     "name": "stdout",
     "output_type": "stream",
     "text": [
      "La Mediana de Precio en Compra es: 448.95\n",
      "El IQR de Precio en Compra es: 894.255\n"
     ]
    }
   ],
   "source": [
    "median = compra['Precio'].median()\n",
    "iqr = compra['Precio'].quantile(0.75) - compra['Precio'].quantile(0.25)\n",
    "\n",
    "print(f'La Mediana de Precio en Compra es: {median}')\n",
    "print(f'El IQR de Precio en Compra es: {iqr}')"
   ]
  },
  {
   "cell_type": "code",
   "execution_count": 48,
   "metadata": {},
   "outputs": [
    {
     "name": "stdout",
     "output_type": "stream",
     "text": [
      "La Mediana de Cantidad en Compra es: 7.0\n",
      "IQR de Cantidad en Compra es: 8.0\n"
     ]
    }
   ],
   "source": [
    "medianCantidad = compra['Cantidad'].median()\n",
    "iqrCantidad = compra['Cantidad'].quantile(0.75) - compra['Cantidad'].quantile(0.25)\n",
    "\n",
    "print(f'La Mediana de Cantidad en Compra es: {medianCantidad}')\n",
    "print(f'IQR de Cantidad en Compra es: {iqrCantidad}')"
   ]
  },
  {
   "cell_type": "markdown",
   "metadata": {},
   "source": [
    "## Precio en Compras:\n",
    "La diferencia significativa entre la media y la desviación estándar sugiere una distribución sesgada hacia valores más altos. Esto podría indicar que hay algunos valores extremadamente altos que están afectando la media.\n",
    "\n",
    "La mediana (448.95) está bastante alejada de la media, lo que respalda la indicación de una posible distribución sesgada.\n",
    "El IQR (894.255) es alto, lo que confirma una gran dispersión de los datos.\n",
    "\n",
    "## Cantidad en Compras:\n",
    "La diferencia entre la media y la desviación estándar es menor, indicando una distribución menos sesgada. La proximidad entre estos dos valores sugiere que no hay valores extremos que afecten significativamente la media.\n",
    "La mediana y el IQR (7.0 y 8.0, respectivamente) indican una dispersión moderada de los datos alrededor de la mediana.\n",
    "\n",
    "### Observaciones Generales:\n",
    "La desviación estándar alta en \"Precio\" confirma una variabilidad significativa en los datos.\n",
    "Los percentiles 25 y 75 y el IQR señalan una dispersión hacia la mediana en ambas columnas, siendo más pronunciada en \"Cantidad\"."
   ]
  },
  {
   "cell_type": "code",
   "execution_count": 60,
   "metadata": {},
   "outputs": [
    {
     "data": {
      "image/png": "[encoded data removed]",
      "text/plain": [
       "<Figure size 1200x1000 with 4 Axes>"
      ]
     },
     "metadata": {},
     "output_type": "display_data"
    }
   ],
   "source": [
    "# Crear subgráficos para 'Precio' y 'Cantidad'\n",
    "fig, axes = plt.subplots(nrows=2, ncols=2, figsize=(12, 10))\n",
    "\n",
    "# Gráfico de caja para 'Precio'\n",
    "sns.boxplot(x=compra['Precio'], ax=axes[0, 0])\n",
    "axes[0, 0].set_title('Boxplot - Precio')\n",
    "\n",
    "# Diagrama de violín para 'Precio'\n",
    "sns.violinplot(x=compra['Precio'], ax=axes[0, 1])\n",
    "axes[0, 1].set_title('Violin Plot - Precio')\n",
    "\n",
    "# Gráfico de caja para 'Cantidad'\n",
    "sns.boxplot(x=compra['Cantidad'], ax=axes[1, 0])\n",
    "axes[1, 0].set_title('Boxplot - Cantidad')\n",
    "\n",
    "# Diagrama de violín para 'Cantidad'\n",
    "sns.violinplot(x=compra['Cantidad'], ax=axes[1, 1])\n",
    "axes[1, 1].set_title('Violin Plot - Cantidad')\n",
    "\n",
    "# Ajustar diseño y mostrar gráficos\n",
    "plt.tight_layout()\n",
    "plt.show()"
   ]
  },
  {
   "cell_type": "markdown",
   "metadata": {},
   "source": [
    "* Empleados"
   ]
  },
  {
   "cell_type": "code",
   "execution_count": 61,
   "metadata": {},
   "outputs": [
    {
     "data": {
      "text/html": [
       "<div>\n",
       "<style scoped>\n",
       "    .dataframe tbody tr th:only-of-type {\n",
       "        vertical-align: middle;\n",
       "    }\n",
       "\n",
       "    .dataframe tbody tr th {\n",
       "        vertical-align: top;\n",
       "    }\n",
       "\n",
       "    .dataframe thead th {\n",
       "        text-align: right;\n",
       "    }\n",
       "</style>\n",
       "<table border=\"1\" class=\"dataframe\">\n",
       "  <thead>\n",
       "    <tr style=\"text-align: right;\">\n",
       "      <th></th>\n",
       "      <th>ID_empleado</th>\n",
       "      <th>Apellido</th>\n",
       "      <th>Nombre</th>\n",
       "      <th>Sucursal</th>\n",
       "      <th>Sector</th>\n",
       "      <th>Cargo</th>\n",
       "      <th>Salario</th>\n",
       "    </tr>\n",
       "  </thead>\n",
       "  <tbody>\n",
       "    <tr>\n",
       "      <th>0</th>\n",
       "      <td>1968</td>\n",
       "      <td>Burgos</td>\n",
       "      <td>Jeronimo</td>\n",
       "      <td>Caseros</td>\n",
       "      <td>Administración</td>\n",
       "      <td>Administrativo</td>\n",
       "      <td>32000</td>\n",
       "    </tr>\n",
       "    <tr>\n",
       "      <th>1</th>\n",
       "      <td>1674</td>\n",
       "      <td>Villegas</td>\n",
       "      <td>Estefania</td>\n",
       "      <td>Caseros</td>\n",
       "      <td>Administración</td>\n",
       "      <td>Vendedor</td>\n",
       "      <td>32000</td>\n",
       "    </tr>\n",
       "    <tr>\n",
       "      <th>2</th>\n",
       "      <td>1516</td>\n",
       "      <td>Fernandez</td>\n",
       "      <td>Guillermo</td>\n",
       "      <td>Caseros</td>\n",
       "      <td>Administración</td>\n",
       "      <td>Vendedor</td>\n",
       "      <td>45000</td>\n",
       "    </tr>\n",
       "    <tr>\n",
       "      <th>3</th>\n",
       "      <td>1330</td>\n",
       "      <td>Ramirez</td>\n",
       "      <td>Eliana</td>\n",
       "      <td>Caseros</td>\n",
       "      <td>Administración</td>\n",
       "      <td>Vendedor</td>\n",
       "      <td>32000</td>\n",
       "    </tr>\n",
       "    <tr>\n",
       "      <th>4</th>\n",
       "      <td>1657</td>\n",
       "      <td>Carmona</td>\n",
       "      <td>Jose</td>\n",
       "      <td>Caseros</td>\n",
       "      <td>Administración</td>\n",
       "      <td>Vendedor</td>\n",
       "      <td>32000</td>\n",
       "    </tr>\n",
       "  </tbody>\n",
       "</table>\n",
       "</div>"
      ],
      "text/plain": [
       "   ID_empleado   Apellido     Nombre Sucursal          Sector           Cargo   \n",
       "0         1968     Burgos   Jeronimo  Caseros  Administración  Administrativo  \\\n",
       "1         1674   Villegas  Estefania  Caseros  Administración        Vendedor   \n",
       "2         1516  Fernandez  Guillermo  Caseros  Administración        Vendedor   \n",
       "3         1330    Ramirez     Eliana  Caseros  Administración        Vendedor   \n",
       "4         1657    Carmona       Jose  Caseros  Administración        Vendedor   \n",
       "\n",
       "   Salario  \n",
       "0    32000  \n",
       "1    32000  \n",
       "2    45000  \n",
       "3    32000  \n",
       "4    32000  "
      ]
     },
     "execution_count": 61,
     "metadata": {},
     "output_type": "execute_result"
    }
   ],
   "source": [
    "empleados.head()"
   ]
  },
  {
   "cell_type": "code",
   "execution_count": 62,
   "metadata": {},
   "outputs": [
    {
     "data": {
      "text/html": [
       "<div>\n",
       "<style scoped>\n",
       "    .dataframe tbody tr th:only-of-type {\n",
       "        vertical-align: middle;\n",
       "    }\n",
       "\n",
       "    .dataframe tbody tr th {\n",
       "        vertical-align: top;\n",
       "    }\n",
       "\n",
       "    .dataframe thead th {\n",
       "        text-align: right;\n",
       "    }\n",
       "</style>\n",
       "<table border=\"1\" class=\"dataframe\">\n",
       "  <thead>\n",
       "    <tr style=\"text-align: right;\">\n",
       "      <th></th>\n",
       "      <th>ID_empleado</th>\n",
       "      <th>Salario</th>\n",
       "    </tr>\n",
       "  </thead>\n",
       "  <tbody>\n",
       "    <tr>\n",
       "      <th>count</th>\n",
       "      <td>267.000000</td>\n",
       "      <td>267.000000</td>\n",
       "    </tr>\n",
       "    <tr>\n",
       "      <th>mean</th>\n",
       "      <td>2546.449438</td>\n",
       "      <td>29460.674157</td>\n",
       "    </tr>\n",
       "    <tr>\n",
       "      <th>std</th>\n",
       "      <td>977.775179</td>\n",
       "      <td>13428.596616</td>\n",
       "    </tr>\n",
       "    <tr>\n",
       "      <th>min</th>\n",
       "      <td>1011.000000</td>\n",
       "      <td>9800.000000</td>\n",
       "    </tr>\n",
       "    <tr>\n",
       "      <th>25%</th>\n",
       "      <td>1657.500000</td>\n",
       "      <td>15000.000000</td>\n",
       "    </tr>\n",
       "    <tr>\n",
       "      <th>50%</th>\n",
       "      <td>2580.000000</td>\n",
       "      <td>32000.000000</td>\n",
       "    </tr>\n",
       "    <tr>\n",
       "      <th>75%</th>\n",
       "      <td>3504.000000</td>\n",
       "      <td>36000.000000</td>\n",
       "    </tr>\n",
       "    <tr>\n",
       "      <th>max</th>\n",
       "      <td>3979.000000</td>\n",
       "      <td>65000.000000</td>\n",
       "    </tr>\n",
       "  </tbody>\n",
       "</table>\n",
       "</div>"
      ],
      "text/plain": [
       "       ID_empleado       Salario\n",
       "count   267.000000    267.000000\n",
       "mean   2546.449438  29460.674157\n",
       "std     977.775179  13428.596616\n",
       "min    1011.000000   9800.000000\n",
       "25%    1657.500000  15000.000000\n",
       "50%    2580.000000  32000.000000\n",
       "75%    3504.000000  36000.000000\n",
       "max    3979.000000  65000.000000"
      ]
     },
     "execution_count": 62,
     "metadata": {},
     "output_type": "execute_result"
    }
   ],
   "source": [
    "empleados.describe()"
   ]
  },
  {
   "cell_type": "code",
   "execution_count": 64,
   "metadata": {},
   "outputs": [
    {
     "name": "stdout",
     "output_type": "stream",
     "text": [
      "<class 'pandas.core.frame.DataFrame'>\n",
      "RangeIndex: 267 entries, 0 to 266\n",
      "Data columns (total 7 columns):\n",
      " #   Column       Non-Null Count  Dtype \n",
      "---  ------       --------------  ----- \n",
      " 0   ID_empleado  267 non-null    int64 \n",
      " 1   Apellido     267 non-null    object\n",
      " 2   Nombre       267 non-null    object\n",
      " 3   Sucursal     267 non-null    object\n",
      " 4   Sector       267 non-null    object\n",
      " 5   Cargo        267 non-null    object\n",
      " 6   Salario      267 non-null    int64 \n",
      "dtypes: int64(2), object(5)\n",
      "memory usage: 14.7+ KB\n"
     ]
    }
   ],
   "source": [
    "empleados.info()"
   ]
  },
  {
   "cell_type": "markdown",
   "metadata": {},
   "source": [
    "* Gasto"
   ]
  },
  {
   "cell_type": "code",
   "execution_count": 65,
   "metadata": {},
   "outputs": [
    {
     "data": {
      "text/html": [
       "<div>\n",
       "<style scoped>\n",
       "    .dataframe tbody tr th:only-of-type {\n",
       "        vertical-align: middle;\n",
       "    }\n",
       "\n",
       "    .dataframe tbody tr th {\n",
       "        vertical-align: top;\n",
       "    }\n",
       "\n",
       "    .dataframe thead th {\n",
       "        text-align: right;\n",
       "    }\n",
       "</style>\n",
       "<table border=\"1\" class=\"dataframe\">\n",
       "  <thead>\n",
       "    <tr style=\"text-align: right;\">\n",
       "      <th></th>\n",
       "      <th>IdGasto</th>\n",
       "      <th>IdSucursal</th>\n",
       "      <th>IdTipoGasto</th>\n",
       "      <th>Fecha</th>\n",
       "      <th>Monto</th>\n",
       "    </tr>\n",
       "  </thead>\n",
       "  <tbody>\n",
       "    <tr>\n",
       "      <th>0</th>\n",
       "      <td>1</td>\n",
       "      <td>18</td>\n",
       "      <td>1</td>\n",
       "      <td>2015-01-01</td>\n",
       "      <td>1164.90</td>\n",
       "    </tr>\n",
       "    <tr>\n",
       "      <th>1</th>\n",
       "      <td>2</td>\n",
       "      <td>18</td>\n",
       "      <td>2</td>\n",
       "      <td>2015-01-01</td>\n",
       "      <td>317.02</td>\n",
       "    </tr>\n",
       "    <tr>\n",
       "      <th>2</th>\n",
       "      <td>3</td>\n",
       "      <td>18</td>\n",
       "      <td>3</td>\n",
       "      <td>2015-01-01</td>\n",
       "      <td>118.89</td>\n",
       "    </tr>\n",
       "    <tr>\n",
       "      <th>3</th>\n",
       "      <td>4</td>\n",
       "      <td>18</td>\n",
       "      <td>4</td>\n",
       "      <td>2015-01-01</td>\n",
       "      <td>1174.23</td>\n",
       "    </tr>\n",
       "    <tr>\n",
       "      <th>4</th>\n",
       "      <td>5</td>\n",
       "      <td>1</td>\n",
       "      <td>1</td>\n",
       "      <td>2015-01-01</td>\n",
       "      <td>1104.51</td>\n",
       "    </tr>\n",
       "  </tbody>\n",
       "</table>\n",
       "</div>"
      ],
      "text/plain": [
       "   IdGasto  IdSucursal  IdTipoGasto       Fecha    Monto\n",
       "0        1          18            1  2015-01-01  1164.90\n",
       "1        2          18            2  2015-01-01   317.02\n",
       "2        3          18            3  2015-01-01   118.89\n",
       "3        4          18            4  2015-01-01  1174.23\n",
       "4        5           1            1  2015-01-01  1104.51"
      ]
     },
     "execution_count": 65,
     "metadata": {},
     "output_type": "execute_result"
    }
   ],
   "source": [
    "gasto.head()"
   ]
  },
  {
   "cell_type": "code",
   "execution_count": 69,
   "metadata": {},
   "outputs": [
    {
     "data": {
      "text/plain": [
       "count    8640.000\n",
       "mean      659.919\n",
       "std       448.631\n",
       "min       100.000\n",
       "25%       255.022\n",
       "50%       679.990\n",
       "75%      1100.522\n",
       "max      1199.880\n",
       "Name: Monto, dtype: float64"
      ]
     },
     "execution_count": 69,
     "metadata": {},
     "output_type": "execute_result"
    }
   ],
   "source": [
    "# solo la columna Monto es relevante al analisis\n",
    "gasto['Monto'].describe().round(3)"
   ]
  },
  {
   "cell_type": "code",
   "execution_count": 67,
   "metadata": {},
   "outputs": [
    {
     "name": "stdout",
     "output_type": "stream",
     "text": [
      "<class 'pandas.core.frame.DataFrame'>\n",
      "RangeIndex: 8640 entries, 0 to 8639\n",
      "Data columns (total 5 columns):\n",
      " #   Column       Non-Null Count  Dtype  \n",
      "---  ------       --------------  -----  \n",
      " 0   IdGasto      8640 non-null   int64  \n",
      " 1   IdSucursal   8640 non-null   int64  \n",
      " 2   IdTipoGasto  8640 non-null   int64  \n",
      " 3   Fecha        8640 non-null   object \n",
      " 4   Monto        8640 non-null   float64\n",
      "dtypes: float64(1), int64(3), object(1)\n",
      "memory usage: 337.6+ KB\n"
     ]
    }
   ],
   "source": [
    "gasto.info()"
   ]
  },
  {
   "cell_type": "code",
   "execution_count": 95,
   "metadata": {},
   "outputs": [
    {
     "name": "stdout",
     "output_type": "stream",
     "text": [
      "Mediana: 679.99\n",
      "IQR: 845.5\n",
      "Media: 659.92\n",
      "Desviacion Estandar: 448.63\n"
     ]
    }
   ],
   "source": [
    "# Comparacion de media y desviacion estandar\n",
    "media = gasto['Monto'].mean().round(2)\n",
    "std = gasto['Monto'].std().round(2)\n",
    "\n",
    "# IQR de monto en Gasto\n",
    "mediana = gasto['Monto'].median().round(2)\n",
    "iqr = gasto['Monto'].quantile(0.75) - gasto['Monto'].quantile(0.25)\n",
    "print(f'Mediana: {mediana}\\nIQR: {iqr}')\n",
    "print(f'Media: {media}\\nDesviacion Estandar: {std}')"
   ]
  },
  {
   "cell_type": "markdown",
   "metadata": {},
   "source": [
    "### Monto\n",
    "Se observan valores cercanos de la Media y la Mediana lo que refiere baja dispersion en la distribucion de los datos en la columna \"Monto\" de la tabla \"Gasto\".\n",
    "\n",
    "La desviacion estandar es mas baja que la media por los que no se observa un sesgo en los datos.\n",
    "\n",
    "El iqr de 845.5 es alto lo que indica variablilidad de los datos"
   ]
  },
  {
   "cell_type": "markdown",
   "metadata": {},
   "source": [
    "### Valoraciones Generales\n",
    "Valores cercanos de la media y la mediana indican baja dispersión en la distribución de los datos.\n",
    "\n",
    "La desviación estándar no es significativamente mayor que la media, lo que indica una dispersión moderada de los datos.\n",
    "\n",
    "Un IQR alto (845.5) sugiere una variabilidad considerable en los datos."
   ]
  },
  {
   "cell_type": "code",
   "execution_count": 82,
   "metadata": {},
   "outputs": [
    {
     "data": {
      "image/png": "[encoded data removed]",
      "text/plain": [
       "<Figure size 1200x600 with 2 Axes>"
      ]
     },
     "metadata": {},
     "output_type": "display_data"
    }
   ],
   "source": [
    "import matplotlib.pyplot as plt\n",
    "import seaborn as sns\n",
    "\n",
    "# Crear subgráficas para 'Monto'\n",
    "fig, axes = plt.subplots(nrows=1, ncols=2, figsize=(12, 6))\n",
    "\n",
    "# Gráfico de caja para 'Monto'\n",
    "sns.boxplot(x=gasto['Monto'], ax=axes[0])\n",
    "axes[0].set_title('Boxplot - Monto')\n",
    "\n",
    "# Diagrama de violín para 'Monto'\n",
    "sns.violinplot(x=gasto['Monto'], ax=axes[1])\n",
    "axes[1].set_title('Violin Plot - Monto')\n",
    "\n",
    "# Ajustar diseño y mostrar gráficos\n",
    "plt.tight_layout()\n",
    "plt.show()\n"
   ]
  },
  {
   "cell_type": "code",
   "execution_count": 83,
   "metadata": {},
   "outputs": [
    {
     "data": {
      "image/png": "[encoded data removed]",
      "text/plain": [
       "<Figure size 800x600 with 1 Axes>"
      ]
     },
     "metadata": {},
     "output_type": "display_data"
    }
   ],
   "source": [
    "import matplotlib.pyplot as plt\n",
    "import seaborn as sns\n",
    "\n",
    "# Crear un histograma para 'Monto'\n",
    "plt.figure(figsize=(8, 6))\n",
    "sns.histplot(gasto['Monto'], bins=20, color='skyblue', kde=True)\n",
    "plt.title('Histograma - Monto')\n",
    "plt.xlabel('Monto')\n",
    "plt.ylabel('Frecuencia')\n",
    "plt.grid(axis='y', alpha=0.75)\n",
    "plt.show()\n"
   ]
  }
 ],
 "metadata": {
  "kernelspec": {
   "display_name": "Python 3",
   "language": "python",
   "name": "python3"
  },
  "language_info": {
   "codemirror_mode": {
    "name": "ipython",
    "version": 3
   },
   "file_extension": ".py",
   "mimetype": "text/x-python",
   "name": "python",
   "nbconvert_exporter": "python",
   "pygments_lexer": "ipython3",
   "version": "3.11.2"
  }
 },
 "nbformat": 4,
 "nbformat_minor": 2
}
