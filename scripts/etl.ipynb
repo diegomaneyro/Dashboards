{
 "cells": [
  {
   "cell_type": "markdown",
   "metadata": {},
   "source": [
    "<center>\n",
    "    <h3>\n",
    "        ETL\n",
    "    <h3/>\n",
    "<center/>"
   ]
  },
  {
   "cell_type": "code",
   "execution_count": 625,
   "metadata": {},
   "outputs": [],
   "source": [
    "# importar librerias necesarias\n",
    "import pandas as pd\n",
    "import matplotlib.pyplot as plt\n",
    "import seaborn as sns"
   ]
  },
  {
   "cell_type": "markdown",
   "metadata": {},
   "source": [
    "<center>\n",
    "    <h4>\n",
    "        Leer Datos\n",
    "    <h4/>\n",
    "<center/>"
   ]
  },
  {
   "cell_type": "code",
   "execution_count": 626,
   "metadata": {},
   "outputs": [],
   "source": [
    "# Leer datos desde csv en dataframe de pandas\n",
    "encoding = \"utf8\"\n",
    "canalDeVenta = pd.read_csv(\"..\\datos\\CanalDeVenta.csv\", sep=\",\", encoding=encoding)\n",
    "clientes = pd.read_csv(\"..\\datos\\Clientes.csv\", sep=\";\", encoding=encoding, usecols=['ID','Provincia', 'Nombre_y_Apellido', 'Domicilio', 'Telefono'])\n",
    "compra = pd.read_csv(\"..\\datos\\Compra.csv\", sep=\",\", encoding=encoding)\n",
    "empleados = pd.read_csv(\"..\\datos\\Empleados.csv\", sep=\",\", encoding=encoding)\n",
    "gasto = pd.read_csv(\"..\\datos\\Gasto.csv\", sep=\",\", encoding=encoding)\n",
    "productos = pd.read_csv(\"..\\datos\\Productos.csv\", sep=\",\", encoding=encoding)\n",
    "proveedores = pd.read_csv(\"..\\datos\\Proveedores.csv\", sep=\",\", encoding=encoding)\n",
    "sucursales = pd.read_csv(\"..\\datos\\Sucursales.csv\", sep=\";\",encoding=encoding, usecols=['ID','Sucursal','Direccion','Localidad','Provincia'])\n",
    "tipoDeGasto = pd.read_csv(\"..\\datos\\TiposDeGasto.csv\", sep=\",\", encoding=encoding)\n",
    "venta = pd.read_csv(\"..\\datos\\Venta.csv\", sep=\",\", encoding=encoding)"
   ]
  },
  {
   "cell_type": "markdown",
   "metadata": {},
   "source": [
    "<center>\n",
    "    <h4>\n",
    "        Analizar Datos\n",
    "    <h4/>\n",
    "<center/>\n"
   ]
  },
  {
   "cell_type": "markdown",
   "metadata": {},
   "source": [
    "Canal De Ventas"
   ]
  },
  {
   "cell_type": "code",
   "execution_count": 627,
   "metadata": {},
   "outputs": [
    {
     "data": {
      "text/html": [
       "<div>\n",
       "<style scoped>\n",
       "    .dataframe tbody tr th:only-of-type {\n",
       "        vertical-align: middle;\n",
       "    }\n",
       "\n",
       "    .dataframe tbody tr th {\n",
       "        vertical-align: top;\n",
       "    }\n",
       "\n",
       "    .dataframe thead th {\n",
       "        text-align: right;\n",
       "    }\n",
       "</style>\n",
       "<table border=\"1\" class=\"dataframe\">\n",
       "  <thead>\n",
       "    <tr style=\"text-align: right;\">\n",
       "      <th></th>\n",
       "      <th>CODIGO</th>\n",
       "      <th>DESCRIPCION</th>\n",
       "    </tr>\n",
       "  </thead>\n",
       "  <tbody>\n",
       "    <tr>\n",
       "      <th>0</th>\n",
       "      <td>1</td>\n",
       "      <td>Telefónica</td>\n",
       "    </tr>\n",
       "    <tr>\n",
       "      <th>1</th>\n",
       "      <td>2</td>\n",
       "      <td>OnLine</td>\n",
       "    </tr>\n",
       "    <tr>\n",
       "      <th>2</th>\n",
       "      <td>3</td>\n",
       "      <td>Presencial</td>\n",
       "    </tr>\n",
       "  </tbody>\n",
       "</table>\n",
       "</div>"
      ],
      "text/plain": [
       "   CODIGO DESCRIPCION\n",
       "0       1  Telefónica\n",
       "1       2      OnLine\n",
       "2       3  Presencial"
      ]
     },
     "execution_count": 627,
     "metadata": {},
     "output_type": "execute_result"
    }
   ],
   "source": [
    "canalDeVenta.head()"
   ]
  },
  {
   "cell_type": "code",
   "execution_count": 628,
   "metadata": {},
   "outputs": [
    {
     "name": "stdout",
     "output_type": "stream",
     "text": [
      "<class 'pandas.core.frame.DataFrame'>\n",
      "RangeIndex: 3 entries, 0 to 2\n",
      "Data columns (total 2 columns):\n",
      " #   Column       Non-Null Count  Dtype \n",
      "---  ------       --------------  ----- \n",
      " 0   CODIGO       3 non-null      int64 \n",
      " 1   DESCRIPCION  3 non-null      object\n",
      "dtypes: int64(1), object(1)\n",
      "memory usage: 180.0+ bytes\n"
     ]
    }
   ],
   "source": [
    "canalDeVenta['DESCRIPCION'] = canalDeVenta['DESCRIPCION'].astype(str)\n",
    "canalDeVenta.info()"
   ]
  },
  {
   "cell_type": "markdown",
   "metadata": {},
   "source": [
    "* La tabla canalDeVenta no contiene valores nulos"
   ]
  },
  {
   "cell_type": "markdown",
   "metadata": {},
   "source": [
    "#### Clientes"
   ]
  },
  {
   "cell_type": "code",
   "execution_count": 629,
   "metadata": {},
   "outputs": [
    {
     "data": {
      "text/html": [
       "<div>\n",
       "<style scoped>\n",
       "    .dataframe tbody tr th:only-of-type {\n",
       "        vertical-align: middle;\n",
       "    }\n",
       "\n",
       "    .dataframe tbody tr th {\n",
       "        vertical-align: top;\n",
       "    }\n",
       "\n",
       "    .dataframe thead th {\n",
       "        text-align: right;\n",
       "    }\n",
       "</style>\n",
       "<table border=\"1\" class=\"dataframe\">\n",
       "  <thead>\n",
       "    <tr style=\"text-align: right;\">\n",
       "      <th></th>\n",
       "      <th>ID</th>\n",
       "      <th>Provincia</th>\n",
       "      <th>Nombre_y_Apellido</th>\n",
       "      <th>Domicilio</th>\n",
       "      <th>Telefono</th>\n",
       "    </tr>\n",
       "  </thead>\n",
       "  <tbody>\n",
       "    <tr>\n",
       "      <th>0</th>\n",
       "      <td>1</td>\n",
       "      <td>Buenos Aires</td>\n",
       "      <td>HEBER JONI SANTANA</td>\n",
       "      <td>LAS HERAS Y BAT. 24 DE FEBRERO 4150  RINCON DE...</td>\n",
       "      <td>425161</td>\n",
       "    </tr>\n",
       "    <tr>\n",
       "      <th>1</th>\n",
       "      <td>2</td>\n",
       "      <td>Buenos Aires</td>\n",
       "      <td>ANA SAPRIZA</td>\n",
       "      <td>PUEYRREDON Y DUPUY RUTA3 KM 52.500 S/N  BÂº LO...</td>\n",
       "      <td>497578</td>\n",
       "    </tr>\n",
       "    <tr>\n",
       "      <th>2</th>\n",
       "      <td>3</td>\n",
       "      <td>Buenos Aires</td>\n",
       "      <td>FERNANDO LUIS SARALEGUI</td>\n",
       "      <td>CALDERON DE LA BARCA 498</td>\n",
       "      <td>493435</td>\n",
       "    </tr>\n",
       "    <tr>\n",
       "      <th>3</th>\n",
       "      <td>4</td>\n",
       "      <td>Buenos Aires</td>\n",
       "      <td>MANUELA SARASOLA</td>\n",
       "      <td>RUTA 36 KM 45,500 S/N  EL PELIGRO</td>\n",
       "      <td>492883</td>\n",
       "    </tr>\n",
       "    <tr>\n",
       "      <th>4</th>\n",
       "      <td>5</td>\n",
       "      <td>Buenos Aires</td>\n",
       "      <td>MARIO RAÚL SARASUA</td>\n",
       "      <td>492 Y 186 S/N  COLONIA URQUIZA</td>\n",
       "      <td>4914608</td>\n",
       "    </tr>\n",
       "  </tbody>\n",
       "</table>\n",
       "</div>"
      ],
      "text/plain": [
       "   ID     Provincia        Nombre_y_Apellido   \n",
       "0   1  Buenos Aires       HEBER JONI SANTANA  \\\n",
       "1   2  Buenos Aires              ANA SAPRIZA   \n",
       "2   3  Buenos Aires  FERNANDO LUIS SARALEGUI   \n",
       "3   4  Buenos Aires         MANUELA SARASOLA   \n",
       "4   5  Buenos Aires       MARIO RAÚL SARASUA   \n",
       "\n",
       "                                           Domicilio Telefono  \n",
       "0  LAS HERAS Y BAT. 24 DE FEBRERO 4150  RINCON DE...   425161  \n",
       "1  PUEYRREDON Y DUPUY RUTA3 KM 52.500 S/N  BÂº LO...   497578  \n",
       "2                           CALDERON DE LA BARCA 498   493435  \n",
       "3                  RUTA 36 KM 45,500 S/N  EL PELIGRO   492883  \n",
       "4                     492 Y 186 S/N  COLONIA URQUIZA  4914608  "
      ]
     },
     "execution_count": 629,
     "metadata": {},
     "output_type": "execute_result"
    }
   ],
   "source": [
    "# cambiar el tipo de dato a str de la columna telefono y eliminar el separador\n",
    "clientes['Telefono'] = clientes['Telefono'].astype(str).str.replace('-','')\n",
    "clientes.head()"
   ]
  },
  {
   "cell_type": "code",
   "execution_count": 630,
   "metadata": {},
   "outputs": [
    {
     "name": "stdout",
     "output_type": "stream",
     "text": [
      "<class 'pandas.core.frame.DataFrame'>\n",
      "RangeIndex: 3407 entries, 0 to 3406\n",
      "Data columns (total 5 columns):\n",
      " #   Column             Non-Null Count  Dtype \n",
      "---  ------             --------------  ----- \n",
      " 0   ID                 3407 non-null   int64 \n",
      " 1   Provincia          3376 non-null   object\n",
      " 2   Nombre_y_Apellido  3361 non-null   object\n",
      " 3   Domicilio          3359 non-null   object\n",
      " 4   Telefono           3407 non-null   object\n",
      "dtypes: int64(1), object(4)\n",
      "memory usage: 133.2+ KB\n"
     ]
    }
   ],
   "source": [
    "clientes.info()"
   ]
  },
  {
   "cell_type": "code",
   "execution_count": 631,
   "metadata": {},
   "outputs": [
    {
     "name": "stdout",
     "output_type": "stream",
     "text": [
      "ID                    0\n",
      "Provincia            31\n",
      "Nombre_y_Apellido    46\n",
      "Domicilio            48\n",
      "Telefono              0\n",
      "dtype: int64\n"
     ]
    }
   ],
   "source": [
    "# Verificar y contar los campos nulos\n",
    "clientes_nulos = clientes.isnull().sum()\n",
    "print(clientes_nulos)"
   ]
  },
  {
   "cell_type": "code",
   "execution_count": 632,
   "metadata": {},
   "outputs": [
    {
     "data": {
      "image/png": "[encoded data removed]",
      "text/plain": [
       "<Figure size 1000x600 with 1 Axes>"
      ]
     },
     "metadata": {},
     "output_type": "display_data"
    }
   ],
   "source": [
    "# graficar nulos agrupados por columna\n",
    "\n",
    "nulos_columna = clientes.isnull().sum()\n",
    "plt.figure(figsize=(10, 6))\n",
    "nulos_columna.plot(kind='bar', color='lightcoral')\n",
    "plt.title('Nulos por columna')\n",
    "plt.xlabel('Columnas')\n",
    "plt.ylabel('cantidad de nulos')\n",
    "plt.xticks(rotation=90)\n",
    "plt.show()"
   ]
  },
  {
   "cell_type": "code",
   "execution_count": 633,
   "metadata": {},
   "outputs": [
    {
     "name": "stdout",
     "output_type": "stream",
     "text": [
      "ID                   0\n",
      "Provincia            0\n",
      "Nombre_y_Apellido    0\n",
      "Domicilio            0\n",
      "Telefono             0\n",
      "dtype: int64\n"
     ]
    }
   ],
   "source": [
    "# reemplazar los nulos\n",
    "clientes = clientes.fillna('SinDato')\n",
    "# despues de la limpieza revisar si existen campos nulos\n",
    "clientes_nulos = clientes.isnull().sum()\n",
    "print(clientes_nulos)"
   ]
  },
  {
   "cell_type": "markdown",
   "metadata": {},
   "source": [
    "* Los valores nulos dentro de la tabla clientes se reeplazaron por la sentencia 'SinDato'"
   ]
  },
  {
   "cell_type": "markdown",
   "metadata": {},
   "source": [
    "#### Compra"
   ]
  },
  {
   "cell_type": "code",
   "execution_count": 634,
   "metadata": {},
   "outputs": [
    {
     "data": {
      "text/html": [
       "<div>\n",
       "<style scoped>\n",
       "    .dataframe tbody tr th:only-of-type {\n",
       "        vertical-align: middle;\n",
       "    }\n",
       "\n",
       "    .dataframe tbody tr th {\n",
       "        vertical-align: top;\n",
       "    }\n",
       "\n",
       "    .dataframe thead th {\n",
       "        text-align: right;\n",
       "    }\n",
       "</style>\n",
       "<table border=\"1\" class=\"dataframe\">\n",
       "  <thead>\n",
       "    <tr style=\"text-align: right;\">\n",
       "      <th></th>\n",
       "      <th>IdCompra</th>\n",
       "      <th>Fecha</th>\n",
       "      <th>IdProducto</th>\n",
       "      <th>Cantidad</th>\n",
       "      <th>Precio</th>\n",
       "      <th>IdProveedor</th>\n",
       "    </tr>\n",
       "  </thead>\n",
       "  <tbody>\n",
       "    <tr>\n",
       "      <th>0</th>\n",
       "      <td>1</td>\n",
       "      <td>2015-01-30</td>\n",
       "      <td>42832</td>\n",
       "      <td>13</td>\n",
       "      <td>560.51</td>\n",
       "      <td>12</td>\n",
       "    </tr>\n",
       "    <tr>\n",
       "      <th>1</th>\n",
       "      <td>2</td>\n",
       "      <td>2015-01-30</td>\n",
       "      <td>42833</td>\n",
       "      <td>11</td>\n",
       "      <td>497.58</td>\n",
       "      <td>7</td>\n",
       "    </tr>\n",
       "    <tr>\n",
       "      <th>2</th>\n",
       "      <td>3</td>\n",
       "      <td>2015-01-30</td>\n",
       "      <td>42834</td>\n",
       "      <td>1</td>\n",
       "      <td>588.50</td>\n",
       "      <td>6</td>\n",
       "    </tr>\n",
       "    <tr>\n",
       "      <th>3</th>\n",
       "      <td>4</td>\n",
       "      <td>2015-01-30</td>\n",
       "      <td>42835</td>\n",
       "      <td>9</td>\n",
       "      <td>567.66</td>\n",
       "      <td>14</td>\n",
       "    </tr>\n",
       "    <tr>\n",
       "      <th>4</th>\n",
       "      <td>5</td>\n",
       "      <td>2015-01-30</td>\n",
       "      <td>42839</td>\n",
       "      <td>14</td>\n",
       "      <td>231.31</td>\n",
       "      <td>2</td>\n",
       "    </tr>\n",
       "  </tbody>\n",
       "</table>\n",
       "</div>"
      ],
      "text/plain": [
       "   IdCompra      Fecha  IdProducto  Cantidad  Precio  IdProveedor\n",
       "0         1 2015-01-30       42832        13  560.51           12\n",
       "1         2 2015-01-30       42833        11  497.58            7\n",
       "2         3 2015-01-30       42834         1  588.50            6\n",
       "3         4 2015-01-30       42835         9  567.66           14\n",
       "4         5 2015-01-30       42839        14  231.31            2"
      ]
     },
     "execution_count": 634,
     "metadata": {},
     "output_type": "execute_result"
    }
   ],
   "source": [
    "compra['Fecha'] = pd.to_datetime(compra['Fecha'], format='%Y-%m-%d')\n",
    "compra.head()"
   ]
  },
  {
   "cell_type": "code",
   "execution_count": 635,
   "metadata": {},
   "outputs": [
    {
     "name": "stdout",
     "output_type": "stream",
     "text": [
      "<class 'pandas.core.frame.DataFrame'>\n",
      "RangeIndex: 11539 entries, 0 to 11538\n",
      "Data columns (total 6 columns):\n",
      " #   Column       Non-Null Count  Dtype         \n",
      "---  ------       --------------  -----         \n",
      " 0   IdCompra     11539 non-null  int64         \n",
      " 1   Fecha        11539 non-null  datetime64[ns]\n",
      " 2   IdProducto   11539 non-null  int64         \n",
      " 3   Cantidad     11539 non-null  int64         \n",
      " 4   Precio       11539 non-null  float64       \n",
      " 5   IdProveedor  11539 non-null  int64         \n",
      "dtypes: datetime64[ns](1), float64(1), int64(4)\n",
      "memory usage: 541.0 KB\n"
     ]
    }
   ],
   "source": [
    "compra.info()"
   ]
  },
  {
   "cell_type": "code",
   "execution_count": 636,
   "metadata": {},
   "outputs": [
    {
     "name": "stdout",
     "output_type": "stream",
     "text": [
      "IdCompra       0\n",
      "Fecha          0\n",
      "IdProducto     0\n",
      "Cantidad       0\n",
      "Precio         0\n",
      "IdProveedor    0\n",
      "dtype: int64\n"
     ]
    }
   ],
   "source": [
    "compra_nulos = compra.isnull().sum()\n",
    "print(compra_nulos)"
   ]
  },
  {
   "cell_type": "markdown",
   "metadata": {},
   "source": [
    "* La tabla compra no contiene valores nulos"
   ]
  },
  {
   "cell_type": "markdown",
   "metadata": {},
   "source": [
    "#### Empleados"
   ]
  },
  {
   "cell_type": "code",
   "execution_count": 637,
   "metadata": {},
   "outputs": [
    {
     "data": {
      "text/html": [
       "<div>\n",
       "<style scoped>\n",
       "    .dataframe tbody tr th:only-of-type {\n",
       "        vertical-align: middle;\n",
       "    }\n",
       "\n",
       "    .dataframe tbody tr th {\n",
       "        vertical-align: top;\n",
       "    }\n",
       "\n",
       "    .dataframe thead th {\n",
       "        text-align: right;\n",
       "    }\n",
       "</style>\n",
       "<table border=\"1\" class=\"dataframe\">\n",
       "  <thead>\n",
       "    <tr style=\"text-align: right;\">\n",
       "      <th></th>\n",
       "      <th>ID_empleado</th>\n",
       "      <th>Apellido</th>\n",
       "      <th>Nombre</th>\n",
       "      <th>Sucursal</th>\n",
       "      <th>Sector</th>\n",
       "      <th>Cargo</th>\n",
       "      <th>Salario</th>\n",
       "    </tr>\n",
       "  </thead>\n",
       "  <tbody>\n",
       "    <tr>\n",
       "      <th>0</th>\n",
       "      <td>1968</td>\n",
       "      <td>Burgos</td>\n",
       "      <td>Jeronimo</td>\n",
       "      <td>Caseros</td>\n",
       "      <td>Administración</td>\n",
       "      <td>Administrativo</td>\n",
       "      <td>32000</td>\n",
       "    </tr>\n",
       "    <tr>\n",
       "      <th>1</th>\n",
       "      <td>1674</td>\n",
       "      <td>Villegas</td>\n",
       "      <td>Estefania</td>\n",
       "      <td>Caseros</td>\n",
       "      <td>Administración</td>\n",
       "      <td>Vendedor</td>\n",
       "      <td>32000</td>\n",
       "    </tr>\n",
       "    <tr>\n",
       "      <th>2</th>\n",
       "      <td>1516</td>\n",
       "      <td>Fernandez</td>\n",
       "      <td>Guillermo</td>\n",
       "      <td>Caseros</td>\n",
       "      <td>Administración</td>\n",
       "      <td>Vendedor</td>\n",
       "      <td>45000</td>\n",
       "    </tr>\n",
       "    <tr>\n",
       "      <th>3</th>\n",
       "      <td>1330</td>\n",
       "      <td>Ramirez</td>\n",
       "      <td>Eliana</td>\n",
       "      <td>Caseros</td>\n",
       "      <td>Administración</td>\n",
       "      <td>Vendedor</td>\n",
       "      <td>32000</td>\n",
       "    </tr>\n",
       "    <tr>\n",
       "      <th>4</th>\n",
       "      <td>1657</td>\n",
       "      <td>Carmona</td>\n",
       "      <td>Jose</td>\n",
       "      <td>Caseros</td>\n",
       "      <td>Administración</td>\n",
       "      <td>Vendedor</td>\n",
       "      <td>32000</td>\n",
       "    </tr>\n",
       "  </tbody>\n",
       "</table>\n",
       "</div>"
      ],
      "text/plain": [
       "   ID_empleado   Apellido     Nombre Sucursal          Sector           Cargo   \n",
       "0         1968     Burgos   Jeronimo  Caseros  Administración  Administrativo  \\\n",
       "1         1674   Villegas  Estefania  Caseros  Administración        Vendedor   \n",
       "2         1516  Fernandez  Guillermo  Caseros  Administración        Vendedor   \n",
       "3         1330    Ramirez     Eliana  Caseros  Administración        Vendedor   \n",
       "4         1657    Carmona       Jose  Caseros  Administración        Vendedor   \n",
       "\n",
       "   Salario  \n",
       "0    32000  \n",
       "1    32000  \n",
       "2    45000  \n",
       "3    32000  \n",
       "4    32000  "
      ]
     },
     "execution_count": 637,
     "metadata": {},
     "output_type": "execute_result"
    }
   ],
   "source": [
    "empleados.head()"
   ]
  },
  {
   "cell_type": "code",
   "execution_count": 638,
   "metadata": {},
   "outputs": [
    {
     "name": "stdout",
     "output_type": "stream",
     "text": [
      "<class 'pandas.core.frame.DataFrame'>\n",
      "RangeIndex: 267 entries, 0 to 266\n",
      "Data columns (total 7 columns):\n",
      " #   Column       Non-Null Count  Dtype \n",
      "---  ------       --------------  ----- \n",
      " 0   ID_empleado  267 non-null    int64 \n",
      " 1   Apellido     267 non-null    object\n",
      " 2   Nombre       267 non-null    object\n",
      " 3   Sucursal     267 non-null    object\n",
      " 4   Sector       267 non-null    object\n",
      " 5   Cargo        267 non-null    object\n",
      " 6   Salario      267 non-null    int64 \n",
      "dtypes: int64(2), object(5)\n",
      "memory usage: 14.7+ KB\n"
     ]
    }
   ],
   "source": [
    "empleados.info()"
   ]
  },
  {
   "cell_type": "code",
   "execution_count": 639,
   "metadata": {},
   "outputs": [
    {
     "name": "stdout",
     "output_type": "stream",
     "text": [
      "ID_empleado    0\n",
      "Apellido       0\n",
      "Nombre         0\n",
      "Sucursal       0\n",
      "Sector         0\n",
      "Cargo          0\n",
      "Salario        0\n",
      "dtype: int64\n"
     ]
    }
   ],
   "source": [
    "empleados_nulos = empleados.isnull().sum()\n",
    "print(empleados_nulos)"
   ]
  },
  {
   "cell_type": "markdown",
   "metadata": {},
   "source": [
    "* La tabla empleados no contiene valores nulos"
   ]
  },
  {
   "cell_type": "markdown",
   "metadata": {},
   "source": [
    "#### Gasto"
   ]
  },
  {
   "cell_type": "code",
   "execution_count": 640,
   "metadata": {},
   "outputs": [
    {
     "data": {
      "text/html": [
       "<div>\n",
       "<style scoped>\n",
       "    .dataframe tbody tr th:only-of-type {\n",
       "        vertical-align: middle;\n",
       "    }\n",
       "\n",
       "    .dataframe tbody tr th {\n",
       "        vertical-align: top;\n",
       "    }\n",
       "\n",
       "    .dataframe thead th {\n",
       "        text-align: right;\n",
       "    }\n",
       "</style>\n",
       "<table border=\"1\" class=\"dataframe\">\n",
       "  <thead>\n",
       "    <tr style=\"text-align: right;\">\n",
       "      <th></th>\n",
       "      <th>IdGasto</th>\n",
       "      <th>IdSucursal</th>\n",
       "      <th>IdTipoGasto</th>\n",
       "      <th>Fecha</th>\n",
       "      <th>Monto</th>\n",
       "    </tr>\n",
       "  </thead>\n",
       "  <tbody>\n",
       "    <tr>\n",
       "      <th>0</th>\n",
       "      <td>1</td>\n",
       "      <td>18</td>\n",
       "      <td>1</td>\n",
       "      <td>2015-01-01</td>\n",
       "      <td>1164.90</td>\n",
       "    </tr>\n",
       "    <tr>\n",
       "      <th>1</th>\n",
       "      <td>2</td>\n",
       "      <td>18</td>\n",
       "      <td>2</td>\n",
       "      <td>2015-01-01</td>\n",
       "      <td>317.02</td>\n",
       "    </tr>\n",
       "    <tr>\n",
       "      <th>2</th>\n",
       "      <td>3</td>\n",
       "      <td>18</td>\n",
       "      <td>3</td>\n",
       "      <td>2015-01-01</td>\n",
       "      <td>118.89</td>\n",
       "    </tr>\n",
       "    <tr>\n",
       "      <th>3</th>\n",
       "      <td>4</td>\n",
       "      <td>18</td>\n",
       "      <td>4</td>\n",
       "      <td>2015-01-01</td>\n",
       "      <td>1174.23</td>\n",
       "    </tr>\n",
       "    <tr>\n",
       "      <th>4</th>\n",
       "      <td>5</td>\n",
       "      <td>1</td>\n",
       "      <td>1</td>\n",
       "      <td>2015-01-01</td>\n",
       "      <td>1104.51</td>\n",
       "    </tr>\n",
       "  </tbody>\n",
       "</table>\n",
       "</div>"
      ],
      "text/plain": [
       "   IdGasto  IdSucursal  IdTipoGasto      Fecha    Monto\n",
       "0        1          18            1 2015-01-01  1164.90\n",
       "1        2          18            2 2015-01-01   317.02\n",
       "2        3          18            3 2015-01-01   118.89\n",
       "3        4          18            4 2015-01-01  1174.23\n",
       "4        5           1            1 2015-01-01  1104.51"
      ]
     },
     "execution_count": 640,
     "metadata": {},
     "output_type": "execute_result"
    }
   ],
   "source": [
    "# cambiar tipo de dato de la columna fecha\n",
    "gasto['Fecha'] = pd.to_datetime(gasto['Fecha'], format='%Y-%m-%d')\n",
    "gasto.head()"
   ]
  },
  {
   "cell_type": "code",
   "execution_count": 641,
   "metadata": {},
   "outputs": [
    {
     "name": "stdout",
     "output_type": "stream",
     "text": [
      "<class 'pandas.core.frame.DataFrame'>\n",
      "RangeIndex: 8640 entries, 0 to 8639\n",
      "Data columns (total 5 columns):\n",
      " #   Column       Non-Null Count  Dtype         \n",
      "---  ------       --------------  -----         \n",
      " 0   IdGasto      8640 non-null   int64         \n",
      " 1   IdSucursal   8640 non-null   int64         \n",
      " 2   IdTipoGasto  8640 non-null   int64         \n",
      " 3   Fecha        8640 non-null   datetime64[ns]\n",
      " 4   Monto        8640 non-null   float64       \n",
      "dtypes: datetime64[ns](1), float64(1), int64(3)\n",
      "memory usage: 337.6 KB\n"
     ]
    }
   ],
   "source": [
    "gasto.info()"
   ]
  },
  {
   "cell_type": "code",
   "execution_count": 642,
   "metadata": {},
   "outputs": [
    {
     "name": "stdout",
     "output_type": "stream",
     "text": [
      "IdGasto        0\n",
      "IdSucursal     0\n",
      "IdTipoGasto    0\n",
      "Fecha          0\n",
      "Monto          0\n",
      "dtype: int64\n"
     ]
    }
   ],
   "source": [
    "gasto_nulos = gasto.isnull().sum()\n",
    "print(gasto_nulos)"
   ]
  },
  {
   "cell_type": "markdown",
   "metadata": {},
   "source": [
    "* La tabla gasto no contiene valores nulos"
   ]
  },
  {
   "cell_type": "markdown",
   "metadata": {},
   "source": [
    "#### Productos"
   ]
  },
  {
   "cell_type": "code",
   "execution_count": 643,
   "metadata": {},
   "outputs": [
    {
     "data": {
      "text/html": [
       "<div>\n",
       "<style scoped>\n",
       "    .dataframe tbody tr th:only-of-type {\n",
       "        vertical-align: middle;\n",
       "    }\n",
       "\n",
       "    .dataframe tbody tr th {\n",
       "        vertical-align: top;\n",
       "    }\n",
       "\n",
       "    .dataframe thead th {\n",
       "        text-align: right;\n",
       "    }\n",
       "</style>\n",
       "<table border=\"1\" class=\"dataframe\">\n",
       "  <thead>\n",
       "    <tr style=\"text-align: right;\">\n",
       "      <th></th>\n",
       "      <th>ID_PRODUCTO</th>\n",
       "      <th>Concepto</th>\n",
       "      <th>Tipo</th>\n",
       "      <th>Precio</th>\n",
       "    </tr>\n",
       "  </thead>\n",
       "  <tbody>\n",
       "    <tr>\n",
       "      <th>0</th>\n",
       "      <td>42737</td>\n",
       "      <td>EPSON COPYFAX 2000</td>\n",
       "      <td>IMPRESIÓN</td>\n",
       "      <td>1658.00</td>\n",
       "    </tr>\n",
       "    <tr>\n",
       "      <th>1</th>\n",
       "      <td>42754</td>\n",
       "      <td>MOT ASROCK H110M-HDS S1151 S/VGA</td>\n",
       "      <td>INFORMATICA</td>\n",
       "      <td>1237.50</td>\n",
       "    </tr>\n",
       "    <tr>\n",
       "      <th>2</th>\n",
       "      <td>42755</td>\n",
       "      <td>MOT ASROCK A58M-VG3+ AMD FM2+ R2.0</td>\n",
       "      <td>INFORMATICA</td>\n",
       "      <td>1079.32</td>\n",
       "    </tr>\n",
       "    <tr>\n",
       "      <th>3</th>\n",
       "      <td>42756</td>\n",
       "      <td>MOT ECS KAM1-I AM1</td>\n",
       "      <td>INFORMATICA</td>\n",
       "      <td>638.66</td>\n",
       "    </tr>\n",
       "    <tr>\n",
       "      <th>4</th>\n",
       "      <td>42757</td>\n",
       "      <td>MOT ASROCK B150M-HDS S1151 S/VGA</td>\n",
       "      <td>INFORMATICA</td>\n",
       "      <td>1784.42</td>\n",
       "    </tr>\n",
       "  </tbody>\n",
       "</table>\n",
       "</div>"
      ],
      "text/plain": [
       "   ID_PRODUCTO                            Concepto         Tipo   Precio\n",
       "0        42737                  EPSON COPYFAX 2000    IMPRESIÓN  1658.00\n",
       "1        42754    MOT ASROCK H110M-HDS S1151 S/VGA  INFORMATICA  1237.50\n",
       "2        42755  MOT ASROCK A58M-VG3+ AMD FM2+ R2.0  INFORMATICA  1079.32\n",
       "3        42756                  MOT ECS KAM1-I AM1  INFORMATICA   638.66\n",
       "4        42757    MOT ASROCK B150M-HDS S1151 S/VGA  INFORMATICA  1784.42"
      ]
     },
     "execution_count": 643,
     "metadata": {},
     "output_type": "execute_result"
    }
   ],
   "source": [
    "productos.head()"
   ]
  },
  {
   "cell_type": "code",
   "execution_count": 644,
   "metadata": {},
   "outputs": [
    {
     "name": "stdout",
     "output_type": "stream",
     "text": [
      "<class 'pandas.core.frame.DataFrame'>\n",
      "RangeIndex: 291 entries, 0 to 290\n",
      "Data columns (total 4 columns):\n",
      " #   Column       Non-Null Count  Dtype  \n",
      "---  ------       --------------  -----  \n",
      " 0   ID_PRODUCTO  291 non-null    int64  \n",
      " 1   Concepto     291 non-null    object \n",
      " 2   Tipo         279 non-null    object \n",
      " 3   Precio       291 non-null    float64\n",
      "dtypes: float64(1), int64(1), object(2)\n",
      "memory usage: 9.2+ KB\n"
     ]
    }
   ],
   "source": [
    "productos.info()"
   ]
  },
  {
   "cell_type": "code",
   "execution_count": 645,
   "metadata": {},
   "outputs": [
    {
     "data": {
      "image/png": "[encoded data removed]",
      "text/plain": [
       "<Figure size 1000x600 with 1 Axes>"
      ]
     },
     "metadata": {},
     "output_type": "display_data"
    }
   ],
   "source": [
    "# graficar nulos de la tabla\n",
    "\n",
    "plt.figure(figsize=(10, 6))\n",
    "productos_nulos_por_columna = productos.isnull().sum()\n",
    "productos_nulos_por_columna.plot(kind='bar', color='lightcoral')\n",
    "plt.title('Nulos Por Columna en Productos')\n",
    "plt.xlabel('Nulos por columna')\n",
    "plt.ylabel('Cantidad nulos')\n",
    "plt.xticks(rotation=90)\n",
    "plt.show()"
   ]
  },
  {
   "cell_type": "code",
   "execution_count": 646,
   "metadata": {},
   "outputs": [
    {
     "name": "stdout",
     "output_type": "stream",
     "text": [
      "ID_PRODUCTO     0\n",
      "Concepto        0\n",
      "Tipo           12\n",
      "Precio          0\n",
      "dtype: int64\n"
     ]
    }
   ],
   "source": [
    "# verifiar si hau nulos\n",
    "productos_nulos = productos.isnull().sum()\n",
    "# reemplazar nulos por la sentencia SinDato\n",
    "productos = productos.fillna('SinDato')\n",
    "print(productos_nulos)"
   ]
  },
  {
   "cell_type": "markdown",
   "metadata": {},
   "source": [
    "#### Proveedores"
   ]
  },
  {
   "cell_type": "code",
   "execution_count": 647,
   "metadata": {},
   "outputs": [
    {
     "data": {
      "text/html": [
       "<div>\n",
       "<style scoped>\n",
       "    .dataframe tbody tr th:only-of-type {\n",
       "        vertical-align: middle;\n",
       "    }\n",
       "\n",
       "    .dataframe tbody tr th {\n",
       "        vertical-align: top;\n",
       "    }\n",
       "\n",
       "    .dataframe thead th {\n",
       "        text-align: right;\n",
       "    }\n",
       "</style>\n",
       "<table border=\"1\" class=\"dataframe\">\n",
       "  <thead>\n",
       "    <tr style=\"text-align: right;\">\n",
       "      <th></th>\n",
       "      <th>IDProveedor</th>\n",
       "      <th>Nombre</th>\n",
       "      <th>Address</th>\n",
       "      <th>City</th>\n",
       "      <th>State</th>\n",
       "      <th>Country</th>\n",
       "      <th>departamen</th>\n",
       "    </tr>\n",
       "  </thead>\n",
       "  <tbody>\n",
       "    <tr>\n",
       "      <th>0</th>\n",
       "      <td>1</td>\n",
       "      <td>NaN</td>\n",
       "      <td>BEREGUESTEIN 36</td>\n",
       "      <td>AVELLANEDA</td>\n",
       "      <td>BUENOS AIRES</td>\n",
       "      <td>ARGENTINA</td>\n",
       "      <td>AVELLANEDA</td>\n",
       "    </tr>\n",
       "    <tr>\n",
       "      <th>1</th>\n",
       "      <td>2</td>\n",
       "      <td>San Cirano</td>\n",
       "      <td>ALBERTI 965</td>\n",
       "      <td>CORONEL BRANDSEN</td>\n",
       "      <td>BUENOS AIRES</td>\n",
       "      <td>ARGENTINA</td>\n",
       "      <td>BRANDSEN</td>\n",
       "    </tr>\n",
       "    <tr>\n",
       "      <th>2</th>\n",
       "      <td>3</td>\n",
       "      <td>Bell S.A.</td>\n",
       "      <td>MORENO 331</td>\n",
       "      <td>CAMPANA</td>\n",
       "      <td>BUENOS AIRES</td>\n",
       "      <td>ARGENTINA</td>\n",
       "      <td>CAMPANA</td>\n",
       "    </tr>\n",
       "    <tr>\n",
       "      <th>3</th>\n",
       "      <td>4</td>\n",
       "      <td>Rivero Insumos</td>\n",
       "      <td>PTE. PERON 3872</td>\n",
       "      <td>VALENTIN ALSINA</td>\n",
       "      <td>BUENOS AIRES</td>\n",
       "      <td>ARGENTINA</td>\n",
       "      <td>LANUS</td>\n",
       "    </tr>\n",
       "    <tr>\n",
       "      <th>4</th>\n",
       "      <td>5</td>\n",
       "      <td>Laprida Computacion</td>\n",
       "      <td>AVDA. PEDRO PEREYRA 1339</td>\n",
       "      <td>LAPRIDA</td>\n",
       "      <td>BUENOS AIRES</td>\n",
       "      <td>ARGENTINA</td>\n",
       "      <td>LAPRIDA</td>\n",
       "    </tr>\n",
       "  </tbody>\n",
       "</table>\n",
       "</div>"
      ],
      "text/plain": [
       "   IDProveedor               Nombre                   Address   \n",
       "0            1                  NaN           BEREGUESTEIN 36  \\\n",
       "1            2           San Cirano               ALBERTI 965   \n",
       "2            3            Bell S.A.                MORENO 331   \n",
       "3            4       Rivero Insumos           PTE. PERON 3872   \n",
       "4            5  Laprida Computacion  AVDA. PEDRO PEREYRA 1339   \n",
       "\n",
       "               City         State    Country  departamen  \n",
       "0        AVELLANEDA  BUENOS AIRES  ARGENTINA  AVELLANEDA  \n",
       "1  CORONEL BRANDSEN  BUENOS AIRES  ARGENTINA    BRANDSEN  \n",
       "2           CAMPANA  BUENOS AIRES  ARGENTINA     CAMPANA  \n",
       "3   VALENTIN ALSINA  BUENOS AIRES  ARGENTINA       LANUS  \n",
       "4           LAPRIDA  BUENOS AIRES  ARGENTINA     LAPRIDA  "
      ]
     },
     "execution_count": 647,
     "metadata": {},
     "output_type": "execute_result"
    }
   ],
   "source": [
    "proveedores.head()"
   ]
  },
  {
   "cell_type": "code",
   "execution_count": 648,
   "metadata": {},
   "outputs": [
    {
     "data": {
      "text/html": [
       "<div>\n",
       "<style scoped>\n",
       "    .dataframe tbody tr th:only-of-type {\n",
       "        vertical-align: middle;\n",
       "    }\n",
       "\n",
       "    .dataframe tbody tr th {\n",
       "        vertical-align: top;\n",
       "    }\n",
       "\n",
       "    .dataframe thead th {\n",
       "        text-align: right;\n",
       "    }\n",
       "</style>\n",
       "<table border=\"1\" class=\"dataframe\">\n",
       "  <thead>\n",
       "    <tr style=\"text-align: right;\">\n",
       "      <th></th>\n",
       "      <th>IdProveedor</th>\n",
       "      <th>Nombre</th>\n",
       "      <th>Direccion</th>\n",
       "      <th>Localidad</th>\n",
       "      <th>Ciudad</th>\n",
       "      <th>Provincia</th>\n",
       "      <th>Pais</th>\n",
       "    </tr>\n",
       "  </thead>\n",
       "  <tbody>\n",
       "    <tr>\n",
       "      <th>0</th>\n",
       "      <td>1</td>\n",
       "      <td>NaN</td>\n",
       "      <td>BEREGUESTEIN 36</td>\n",
       "      <td>AVELLANEDA</td>\n",
       "      <td>AVELLANEDA</td>\n",
       "      <td>BUENOS AIRES</td>\n",
       "      <td>ARGENTINA</td>\n",
       "    </tr>\n",
       "    <tr>\n",
       "      <th>1</th>\n",
       "      <td>2</td>\n",
       "      <td>San Cirano</td>\n",
       "      <td>ALBERTI 965</td>\n",
       "      <td>BRANDSEN</td>\n",
       "      <td>CORONEL BRANDSEN</td>\n",
       "      <td>BUENOS AIRES</td>\n",
       "      <td>ARGENTINA</td>\n",
       "    </tr>\n",
       "    <tr>\n",
       "      <th>2</th>\n",
       "      <td>3</td>\n",
       "      <td>Bell S.A.</td>\n",
       "      <td>MORENO 331</td>\n",
       "      <td>CAMPANA</td>\n",
       "      <td>CAMPANA</td>\n",
       "      <td>BUENOS AIRES</td>\n",
       "      <td>ARGENTINA</td>\n",
       "    </tr>\n",
       "    <tr>\n",
       "      <th>3</th>\n",
       "      <td>4</td>\n",
       "      <td>Rivero Insumos</td>\n",
       "      <td>PTE. PERON 3872</td>\n",
       "      <td>LANUS</td>\n",
       "      <td>VALENTIN ALSINA</td>\n",
       "      <td>BUENOS AIRES</td>\n",
       "      <td>ARGENTINA</td>\n",
       "    </tr>\n",
       "    <tr>\n",
       "      <th>4</th>\n",
       "      <td>5</td>\n",
       "      <td>Laprida Computacion</td>\n",
       "      <td>AVDA. PEDRO PEREYRA 1339</td>\n",
       "      <td>LAPRIDA</td>\n",
       "      <td>LAPRIDA</td>\n",
       "      <td>BUENOS AIRES</td>\n",
       "      <td>ARGENTINA</td>\n",
       "    </tr>\n",
       "  </tbody>\n",
       "</table>\n",
       "</div>"
      ],
      "text/plain": [
       "   IdProveedor               Nombre                 Direccion   Localidad   \n",
       "0            1                  NaN           BEREGUESTEIN 36  AVELLANEDA  \\\n",
       "1            2           San Cirano               ALBERTI 965    BRANDSEN   \n",
       "2            3            Bell S.A.                MORENO 331     CAMPANA   \n",
       "3            4       Rivero Insumos           PTE. PERON 3872       LANUS   \n",
       "4            5  Laprida Computacion  AVDA. PEDRO PEREYRA 1339     LAPRIDA   \n",
       "\n",
       "             Ciudad     Provincia       Pais  \n",
       "0        AVELLANEDA  BUENOS AIRES  ARGENTINA  \n",
       "1  CORONEL BRANDSEN  BUENOS AIRES  ARGENTINA  \n",
       "2           CAMPANA  BUENOS AIRES  ARGENTINA  \n",
       "3   VALENTIN ALSINA  BUENOS AIRES  ARGENTINA  \n",
       "4           LAPRIDA  BUENOS AIRES  ARGENTINA  "
      ]
     },
     "execution_count": 648,
     "metadata": {},
     "output_type": "execute_result"
    }
   ],
   "source": [
    "# Reemplazar los nombres\n",
    "proveedores.columns = ['IdProveedor','Nombre','Direccion','Ciudad','Provincia','Pais','Localidad']\n",
    "# Reordenar las columnas\n",
    "proveedores = proveedores[['IdProveedor','Nombre','Direccion','Localidad','Ciudad','Provincia','Pais']]\n",
    "proveedores.head()"
   ]
  },
  {
   "cell_type": "code",
   "execution_count": 649,
   "metadata": {},
   "outputs": [
    {
     "name": "stdout",
     "output_type": "stream",
     "text": [
      "IdProveedor    0\n",
      "Nombre         2\n",
      "Direccion      0\n",
      "Localidad      0\n",
      "Ciudad         0\n",
      "Provincia      0\n",
      "Pais           0\n",
      "dtype: int64\n"
     ]
    }
   ],
   "source": [
    "proveedores_nulos = proveedores.isnull().sum()\n",
    "print(proveedores_nulos)"
   ]
  },
  {
   "cell_type": "code",
   "execution_count": 650,
   "metadata": {},
   "outputs": [
    {
     "data": {
      "image/png": "[encoded data removed]",
      "text/plain": [
       "<Figure size 1000x600 with 1 Axes>"
      ]
     },
     "metadata": {},
     "output_type": "display_data"
    }
   ],
   "source": [
    "# Graficar nulos por columnas\n",
    "plt.figure(figsize=(10, 6))\n",
    "plt.title('Nulos Por Columna en Proveedores')\n",
    "nulosPorColumnaProveedores = proveedores.isnull().sum()\n",
    "nulosPorColumnaProveedores.plot(kind='bar', color='lightcoral')\n",
    "plt.xlabel('Nulos Por Columna')\n",
    "plt.ylabel('Cantidad Nulos')\n",
    "plt.xticks(rotation=90)\n",
    "plt.show()"
   ]
  },
  {
   "cell_type": "code",
   "execution_count": 651,
   "metadata": {},
   "outputs": [
    {
     "name": "stdout",
     "output_type": "stream",
     "text": [
      "<class 'pandas.core.frame.DataFrame'>\n",
      "RangeIndex: 14 entries, 0 to 13\n",
      "Data columns (total 7 columns):\n",
      " #   Column       Non-Null Count  Dtype \n",
      "---  ------       --------------  ----- \n",
      " 0   IdProveedor  14 non-null     int64 \n",
      " 1   Nombre       14 non-null     object\n",
      " 2   Direccion    14 non-null     object\n",
      " 3   Localidad    14 non-null     object\n",
      " 4   Ciudad       14 non-null     object\n",
      " 5   Provincia    14 non-null     object\n",
      " 6   Pais         14 non-null     object\n",
      "dtypes: int64(1), object(6)\n",
      "memory usage: 916.0+ bytes\n"
     ]
    }
   ],
   "source": [
    "# verifiar nulos\n",
    "proveedores_nulos = proveedores.isnull().sum()\n",
    "# reemplazar nulos por la sentencia SinDato\n",
    "proveedores = proveedores.fillna('SinDato')\n",
    "proveedores.info()"
   ]
  },
  {
   "cell_type": "markdown",
   "metadata": {},
   "source": [
    "#### Sucursales"
   ]
  },
  {
   "cell_type": "code",
   "execution_count": 652,
   "metadata": {},
   "outputs": [
    {
     "data": {
      "text/html": [
       "<div>\n",
       "<style scoped>\n",
       "    .dataframe tbody tr th:only-of-type {\n",
       "        vertical-align: middle;\n",
       "    }\n",
       "\n",
       "    .dataframe tbody tr th {\n",
       "        vertical-align: top;\n",
       "    }\n",
       "\n",
       "    .dataframe thead th {\n",
       "        text-align: right;\n",
       "    }\n",
       "</style>\n",
       "<table border=\"1\" class=\"dataframe\">\n",
       "  <thead>\n",
       "    <tr style=\"text-align: right;\">\n",
       "      <th></th>\n",
       "      <th>ID</th>\n",
       "      <th>Sucursal</th>\n",
       "      <th>Direccion</th>\n",
       "      <th>Localidad</th>\n",
       "      <th>Provincia</th>\n",
       "    </tr>\n",
       "  </thead>\n",
       "  <tbody>\n",
       "    <tr>\n",
       "      <th>0</th>\n",
       "      <td>1</td>\n",
       "      <td>Cabildo</td>\n",
       "      <td>Av. Cabildo 1342</td>\n",
       "      <td>Ciudad de Buenos Aires</td>\n",
       "      <td>Ciudad de Buenos Aires</td>\n",
       "    </tr>\n",
       "    <tr>\n",
       "      <th>1</th>\n",
       "      <td>2</td>\n",
       "      <td>Palermo 1</td>\n",
       "      <td>Guatemala 5701</td>\n",
       "      <td>CABA</td>\n",
       "      <td>CABA</td>\n",
       "    </tr>\n",
       "    <tr>\n",
       "      <th>2</th>\n",
       "      <td>3</td>\n",
       "      <td>Palermo 2</td>\n",
       "      <td>Gral. Lucio Norberto Mansilla 2668</td>\n",
       "      <td>CABA</td>\n",
       "      <td>C deBuenos Aires</td>\n",
       "    </tr>\n",
       "    <tr>\n",
       "      <th>3</th>\n",
       "      <td>4</td>\n",
       "      <td>Corrientes</td>\n",
       "      <td>Av. Corrientes 2352</td>\n",
       "      <td>Ciudad de Buenos Aires</td>\n",
       "      <td>Bs As</td>\n",
       "    </tr>\n",
       "    <tr>\n",
       "      <th>4</th>\n",
       "      <td>5</td>\n",
       "      <td>Almagro</td>\n",
       "      <td>Venezuela 3650</td>\n",
       "      <td>Capital</td>\n",
       "      <td>Bs.As.</td>\n",
       "    </tr>\n",
       "  </tbody>\n",
       "</table>\n",
       "</div>"
      ],
      "text/plain": [
       "   ID    Sucursal                           Direccion               Localidad   \n",
       "0   1     Cabildo                    Av. Cabildo 1342  Ciudad de Buenos Aires  \\\n",
       "1   2   Palermo 1                      Guatemala 5701                    CABA   \n",
       "2   3   Palermo 2  Gral. Lucio Norberto Mansilla 2668                    CABA   \n",
       "3   4  Corrientes                 Av. Corrientes 2352  Ciudad de Buenos Aires   \n",
       "4   5     Almagro                      Venezuela 3650                 Capital   \n",
       "\n",
       "                Provincia  \n",
       "0  Ciudad de Buenos Aires  \n",
       "1                    CABA  \n",
       "2        C deBuenos Aires  \n",
       "3                   Bs As  \n",
       "4                 Bs.As.   "
      ]
     },
     "execution_count": 652,
     "metadata": {},
     "output_type": "execute_result"
    }
   ],
   "source": [
    "sucursales.head()"
   ]
  },
  {
   "cell_type": "code",
   "execution_count": 653,
   "metadata": {},
   "outputs": [
    {
     "name": "stdout",
     "output_type": "stream",
     "text": [
      "<class 'pandas.core.frame.DataFrame'>\n",
      "RangeIndex: 31 entries, 0 to 30\n",
      "Data columns (total 5 columns):\n",
      " #   Column     Non-Null Count  Dtype \n",
      "---  ------     --------------  ----- \n",
      " 0   ID         31 non-null     int64 \n",
      " 1   Sucursal   31 non-null     object\n",
      " 2   Direccion  31 non-null     object\n",
      " 3   Localidad  31 non-null     object\n",
      " 4   Provincia  31 non-null     object\n",
      "dtypes: int64(1), object(4)\n",
      "memory usage: 1.3+ KB\n"
     ]
    }
   ],
   "source": [
    "sucursales.info()"
   ]
  },
  {
   "cell_type": "code",
   "execution_count": 654,
   "metadata": {},
   "outputs": [
    {
     "name": "stdout",
     "output_type": "stream",
     "text": [
      "ID           0\n",
      "Sucursal     0\n",
      "Direccion    0\n",
      "Localidad    0\n",
      "Provincia    0\n",
      "dtype: int64\n"
     ]
    }
   ],
   "source": [
    "sucursales_nulos = sucursales.isnull().sum()\n",
    "print(sucursales_nulos)"
   ]
  },
  {
   "cell_type": "markdown",
   "metadata": {},
   "source": [
    "* La tabla sucursales no tiene valores nulos"
   ]
  },
  {
   "cell_type": "markdown",
   "metadata": {},
   "source": [
    "#### Tipo De Gasto"
   ]
  },
  {
   "cell_type": "code",
   "execution_count": 655,
   "metadata": {},
   "outputs": [
    {
     "data": {
      "text/html": [
       "<div>\n",
       "<style scoped>\n",
       "    .dataframe tbody tr th:only-of-type {\n",
       "        vertical-align: middle;\n",
       "    }\n",
       "\n",
       "    .dataframe tbody tr th {\n",
       "        vertical-align: top;\n",
       "    }\n",
       "\n",
       "    .dataframe thead th {\n",
       "        text-align: right;\n",
       "    }\n",
       "</style>\n",
       "<table border=\"1\" class=\"dataframe\">\n",
       "  <thead>\n",
       "    <tr style=\"text-align: right;\">\n",
       "      <th></th>\n",
       "      <th>IdTipoGasto</th>\n",
       "      <th>Descripcion</th>\n",
       "      <th>Monto_Aproximado</th>\n",
       "    </tr>\n",
       "  </thead>\n",
       "  <tbody>\n",
       "    <tr>\n",
       "      <th>0</th>\n",
       "      <td>1</td>\n",
       "      <td>Alquiler</td>\n",
       "      <td>1000</td>\n",
       "    </tr>\n",
       "    <tr>\n",
       "      <th>1</th>\n",
       "      <td>2</td>\n",
       "      <td>Servicios</td>\n",
       "      <td>300</td>\n",
       "    </tr>\n",
       "    <tr>\n",
       "      <th>2</th>\n",
       "      <td>3</td>\n",
       "      <td>Impuestos</td>\n",
       "      <td>100</td>\n",
       "    </tr>\n",
       "    <tr>\n",
       "      <th>3</th>\n",
       "      <td>4</td>\n",
       "      <td>Sueldos y Jornales</td>\n",
       "      <td>1000</td>\n",
       "    </tr>\n",
       "  </tbody>\n",
       "</table>\n",
       "</div>"
      ],
      "text/plain": [
       "   IdTipoGasto         Descripcion  Monto_Aproximado\n",
       "0            1            Alquiler              1000\n",
       "1            2           Servicios               300\n",
       "2            3           Impuestos               100\n",
       "3            4  Sueldos y Jornales              1000"
      ]
     },
     "execution_count": 655,
     "metadata": {},
     "output_type": "execute_result"
    }
   ],
   "source": [
    "tipoDeGasto.head()"
   ]
  },
  {
   "cell_type": "code",
   "execution_count": 656,
   "metadata": {},
   "outputs": [
    {
     "name": "stdout",
     "output_type": "stream",
     "text": [
      "<class 'pandas.core.frame.DataFrame'>\n",
      "RangeIndex: 4 entries, 0 to 3\n",
      "Data columns (total 3 columns):\n",
      " #   Column            Non-Null Count  Dtype \n",
      "---  ------            --------------  ----- \n",
      " 0   IdTipoGasto       4 non-null      int64 \n",
      " 1   Descripcion       4 non-null      object\n",
      " 2   Monto_Aproximado  4 non-null      int64 \n",
      "dtypes: int64(2), object(1)\n",
      "memory usage: 228.0+ bytes\n"
     ]
    }
   ],
   "source": [
    "tipoDeGasto.info()"
   ]
  },
  {
   "cell_type": "code",
   "execution_count": 657,
   "metadata": {},
   "outputs": [
    {
     "name": "stdout",
     "output_type": "stream",
     "text": [
      "IdTipoGasto         0\n",
      "Descripcion         0\n",
      "Monto_Aproximado    0\n",
      "dtype: int64\n"
     ]
    }
   ],
   "source": [
    "tipoDeGasto_nulos = tipoDeGasto.isnull().sum()\n",
    "print(tipoDeGasto_nulos)"
   ]
  },
  {
   "cell_type": "markdown",
   "metadata": {},
   "source": [
    "* La tabla tipoDeGasto no contiene valores nulos"
   ]
  },
  {
   "cell_type": "markdown",
   "metadata": {},
   "source": [
    "#### Venta"
   ]
  },
  {
   "cell_type": "code",
   "execution_count": 658,
   "metadata": {},
   "outputs": [
    {
     "data": {
      "text/html": [
       "<div>\n",
       "<style scoped>\n",
       "    .dataframe tbody tr th:only-of-type {\n",
       "        vertical-align: middle;\n",
       "    }\n",
       "\n",
       "    .dataframe tbody tr th {\n",
       "        vertical-align: top;\n",
       "    }\n",
       "\n",
       "    .dataframe thead th {\n",
       "        text-align: right;\n",
       "    }\n",
       "</style>\n",
       "<table border=\"1\" class=\"dataframe\">\n",
       "  <thead>\n",
       "    <tr style=\"text-align: right;\">\n",
       "      <th></th>\n",
       "      <th>IdVenta</th>\n",
       "      <th>Fecha</th>\n",
       "      <th>Fecha_Entrega</th>\n",
       "      <th>IdCanal</th>\n",
       "      <th>IdCliente</th>\n",
       "      <th>IdSucursal</th>\n",
       "      <th>IdEmpleado</th>\n",
       "      <th>IdProducto</th>\n",
       "      <th>Precio</th>\n",
       "      <th>Cantidad</th>\n",
       "    </tr>\n",
       "  </thead>\n",
       "  <tbody>\n",
       "    <tr>\n",
       "      <th>0</th>\n",
       "      <td>1</td>\n",
       "      <td>2018-03-09</td>\n",
       "      <td>2018-03-17</td>\n",
       "      <td>3</td>\n",
       "      <td>969</td>\n",
       "      <td>13</td>\n",
       "      <td>1674</td>\n",
       "      <td>42817</td>\n",
       "      <td>813.12</td>\n",
       "      <td>2.0</td>\n",
       "    </tr>\n",
       "    <tr>\n",
       "      <th>1</th>\n",
       "      <td>2</td>\n",
       "      <td>2018-12-28</td>\n",
       "      <td>2018-12-29</td>\n",
       "      <td>2</td>\n",
       "      <td>884</td>\n",
       "      <td>13</td>\n",
       "      <td>1674</td>\n",
       "      <td>42795</td>\n",
       "      <td>543.18</td>\n",
       "      <td>3.0</td>\n",
       "    </tr>\n",
       "    <tr>\n",
       "      <th>2</th>\n",
       "      <td>3</td>\n",
       "      <td>2016-03-28</td>\n",
       "      <td>2016-03-31</td>\n",
       "      <td>2</td>\n",
       "      <td>1722</td>\n",
       "      <td>13</td>\n",
       "      <td>1674</td>\n",
       "      <td>42837</td>\n",
       "      <td>430.32</td>\n",
       "      <td>1.0</td>\n",
       "    </tr>\n",
       "    <tr>\n",
       "      <th>3</th>\n",
       "      <td>4</td>\n",
       "      <td>2017-10-23</td>\n",
       "      <td>2017-10-24</td>\n",
       "      <td>3</td>\n",
       "      <td>2876</td>\n",
       "      <td>13</td>\n",
       "      <td>1674</td>\n",
       "      <td>42834</td>\n",
       "      <td>818.84</td>\n",
       "      <td>2.0</td>\n",
       "    </tr>\n",
       "    <tr>\n",
       "      <th>4</th>\n",
       "      <td>5</td>\n",
       "      <td>2017-11-22</td>\n",
       "      <td>2017-11-25</td>\n",
       "      <td>2</td>\n",
       "      <td>678</td>\n",
       "      <td>13</td>\n",
       "      <td>1674</td>\n",
       "      <td>42825</td>\n",
       "      <td>554.18</td>\n",
       "      <td>3.0</td>\n",
       "    </tr>\n",
       "  </tbody>\n",
       "</table>\n",
       "</div>"
      ],
      "text/plain": [
       "   IdVenta       Fecha Fecha_Entrega  IdCanal  IdCliente  IdSucursal   \n",
       "0        1  2018-03-09    2018-03-17        3        969          13  \\\n",
       "1        2  2018-12-28    2018-12-29        2        884          13   \n",
       "2        3  2016-03-28    2016-03-31        2       1722          13   \n",
       "3        4  2017-10-23    2017-10-24        3       2876          13   \n",
       "4        5  2017-11-22    2017-11-25        2        678          13   \n",
       "\n",
       "   IdEmpleado  IdProducto  Precio  Cantidad  \n",
       "0        1674       42817  813.12       2.0  \n",
       "1        1674       42795  543.18       3.0  \n",
       "2        1674       42837  430.32       1.0  \n",
       "3        1674       42834  818.84       2.0  \n",
       "4        1674       42825  554.18       3.0  "
      ]
     },
     "execution_count": 658,
     "metadata": {},
     "output_type": "execute_result"
    }
   ],
   "source": [
    "venta.head()"
   ]
  },
  {
   "cell_type": "code",
   "execution_count": 659,
   "metadata": {},
   "outputs": [],
   "source": [
    "# Cambiar tipo de datos de columnas fecha\n",
    "venta['Fecha'] = pd.to_datetime(venta['Fecha'], format='%Y-%m-%d')\n",
    "venta['Fecha_Entrega'] = pd.to_datetime(venta['Fecha_Entrega'], format='%Y-%m-%d')"
   ]
  },
  {
   "cell_type": "code",
   "execution_count": 660,
   "metadata": {},
   "outputs": [
    {
     "name": "stdout",
     "output_type": "stream",
     "text": [
      "IdVenta            0\n",
      "Fecha              0\n",
      "Fecha_Entrega      0\n",
      "IdCanal            0\n",
      "IdCliente          0\n",
      "IdSucursal         0\n",
      "IdEmpleado         0\n",
      "IdProducto         0\n",
      "Precio           924\n",
      "Cantidad         892\n",
      "dtype: int64\n"
     ]
    }
   ],
   "source": [
    "venta_nulos = venta.isnull().sum()\n",
    "print(venta_nulos)"
   ]
  },
  {
   "cell_type": "markdown",
   "metadata": {},
   "source": [
    "* Al crear un nuevo dataframe con los registros con nulos en 'Precio' y 'Cantidad' se puede comparar luego con el stock y descartar finalmente si son ventas reales o no"
   ]
  },
  {
   "cell_type": "code",
   "execution_count": 661,
   "metadata": {},
   "outputs": [
    {
     "data": {
      "text/html": [
       "<div>\n",
       "<style scoped>\n",
       "    .dataframe tbody tr th:only-of-type {\n",
       "        vertical-align: middle;\n",
       "    }\n",
       "\n",
       "    .dataframe tbody tr th {\n",
       "        vertical-align: top;\n",
       "    }\n",
       "\n",
       "    .dataframe thead th {\n",
       "        text-align: right;\n",
       "    }\n",
       "</style>\n",
       "<table border=\"1\" class=\"dataframe\">\n",
       "  <thead>\n",
       "    <tr style=\"text-align: right;\">\n",
       "      <th></th>\n",
       "      <th>IdVenta</th>\n",
       "      <th>Fecha</th>\n",
       "      <th>Fecha_Entrega</th>\n",
       "      <th>IdCanal</th>\n",
       "      <th>IdCliente</th>\n",
       "      <th>IdSucursal</th>\n",
       "      <th>IdEmpleado</th>\n",
       "      <th>IdProducto</th>\n",
       "      <th>Precio</th>\n",
       "      <th>Cantidad</th>\n",
       "    </tr>\n",
       "  </thead>\n",
       "  <tbody>\n",
       "    <tr>\n",
       "      <th>71</th>\n",
       "      <td>72</td>\n",
       "      <td>2018-08-22</td>\n",
       "      <td>2018-09-01</td>\n",
       "      <td>1</td>\n",
       "      <td>1185</td>\n",
       "      <td>13</td>\n",
       "      <td>1674</td>\n",
       "      <td>42779</td>\n",
       "      <td>9555.04</td>\n",
       "      <td>NaN</td>\n",
       "    </tr>\n",
       "    <tr>\n",
       "      <th>85</th>\n",
       "      <td>86</td>\n",
       "      <td>2015-03-17</td>\n",
       "      <td>2015-03-20</td>\n",
       "      <td>3</td>\n",
       "      <td>3159</td>\n",
       "      <td>13</td>\n",
       "      <td>1674</td>\n",
       "      <td>42839</td>\n",
       "      <td>NaN</td>\n",
       "      <td>2.0</td>\n",
       "    </tr>\n",
       "    <tr>\n",
       "      <th>104</th>\n",
       "      <td>105</td>\n",
       "      <td>2017-10-28</td>\n",
       "      <td>2017-11-02</td>\n",
       "      <td>3</td>\n",
       "      <td>1107</td>\n",
       "      <td>13</td>\n",
       "      <td>1674</td>\n",
       "      <td>42822</td>\n",
       "      <td>816.86</td>\n",
       "      <td>NaN</td>\n",
       "    </tr>\n",
       "    <tr>\n",
       "      <th>113</th>\n",
       "      <td>114</td>\n",
       "      <td>2018-10-08</td>\n",
       "      <td>2018-10-13</td>\n",
       "      <td>3</td>\n",
       "      <td>1868</td>\n",
       "      <td>13</td>\n",
       "      <td>1674</td>\n",
       "      <td>42820</td>\n",
       "      <td>NaN</td>\n",
       "      <td>3.0</td>\n",
       "    </tr>\n",
       "    <tr>\n",
       "      <th>153</th>\n",
       "      <td>154</td>\n",
       "      <td>2019-01-17</td>\n",
       "      <td>2019-01-21</td>\n",
       "      <td>3</td>\n",
       "      <td>1416</td>\n",
       "      <td>13</td>\n",
       "      <td>1674</td>\n",
       "      <td>42927</td>\n",
       "      <td>91.00</td>\n",
       "      <td>NaN</td>\n",
       "    </tr>\n",
       "  </tbody>\n",
       "</table>\n",
       "</div>"
      ],
      "text/plain": [
       "     IdVenta      Fecha Fecha_Entrega  IdCanal  IdCliente  IdSucursal   \n",
       "71        72 2018-08-22    2018-09-01        1       1185          13  \\\n",
       "85        86 2015-03-17    2015-03-20        3       3159          13   \n",
       "104      105 2017-10-28    2017-11-02        3       1107          13   \n",
       "113      114 2018-10-08    2018-10-13        3       1868          13   \n",
       "153      154 2019-01-17    2019-01-21        3       1416          13   \n",
       "\n",
       "     IdEmpleado  IdProducto   Precio  Cantidad  \n",
       "71         1674       42779  9555.04       NaN  \n",
       "85         1674       42839      NaN       2.0  \n",
       "104        1674       42822   816.86       NaN  \n",
       "113        1674       42820      NaN       3.0  \n",
       "153        1674       42927    91.00       NaN  "
      ]
     },
     "execution_count": 661,
     "metadata": {},
     "output_type": "execute_result"
    }
   ],
   "source": [
    "# Filtrar las filas con registros nulos\n",
    "filas_con_nulos = venta[venta.isnull().any(axis=1)]\n",
    "\n",
    "# Verificar el nuevo DataFrame\n",
    "filas_con_nulos.head()"
   ]
  },
  {
   "cell_type": "code",
   "execution_count": 665,
   "metadata": {},
   "outputs": [],
   "source": [
    "# Exportar a csv los registros para determinar si son validos o no\n",
    "filas_con_nulos.to_csv('filas_con_nulos.csv', index='False')"
   ]
  },
  {
   "cell_type": "code",
   "execution_count": 666,
   "metadata": {},
   "outputs": [
    {
     "data": {
      "image/png": "[encoded data removed]",
      "text/plain": [
       "<Figure size 1000x600 with 1 Axes>"
      ]
     },
     "metadata": {},
     "output_type": "display_data"
    }
   ],
   "source": [
    "# Graficar nulos en la tabla ventas\n",
    "\n",
    "plt.figure(figsize=(10, 6))\n",
    "ventas_nulos = venta.isnull().sum()\n",
    "ventas_nulos.plot(kind='bar', color='lightcoral')\n",
    "plt.title('Nulos Por Columna En Venta')\n",
    "plt.xlabel('Nulos Por Columna')\n",
    "plt.ylabel('Cantidad de Nulos')\n",
    "plt.xticks(rotation=90)\n",
    "plt.show()"
   ]
  },
  {
   "cell_type": "markdown",
   "metadata": {},
   "source": [
    "En la columna Cantidad reemplazo el tipo de dato de float a integer ya que no puede venderse la mitad de un producto debe ser entero el tipo de dato, primero elimino los datos nulos"
   ]
  },
  {
   "cell_type": "code",
   "execution_count": 667,
   "metadata": {},
   "outputs": [],
   "source": [
    "# Elimino los valores nulos de ventas que no tienen la cantidad especificada y precio en la tabla\n",
    "venta = venta.dropna(subset=['Cantidad'])\n",
    "venta = venta.dropna(subset=['Precio'])"
   ]
  },
  {
   "cell_type": "code",
   "execution_count": 671,
   "metadata": {},
   "outputs": [
    {
     "name": "stdout",
     "output_type": "stream",
     "text": [
      "IdVenta          0\n",
      "Fecha            0\n",
      "Fecha_Entrega    0\n",
      "IdCanal          0\n",
      "IdCliente        0\n",
      "IdSucursal       0\n",
      "IdEmpleado       0\n",
      "IdProducto       0\n",
      "Precio           0\n",
      "Cantidad         0\n",
      "dtype: int64\n"
     ]
    }
   ],
   "source": [
    "# verifico nulos\n",
    "venta_nulos = venta.isnull().sum()\n",
    "print(venta_nulos)"
   ]
  },
  {
   "cell_type": "code",
   "execution_count": 670,
   "metadata": {},
   "outputs": [
    {
     "data": {
      "text/html": [
       "<div>\n",
       "<style scoped>\n",
       "    .dataframe tbody tr th:only-of-type {\n",
       "        vertical-align: middle;\n",
       "    }\n",
       "\n",
       "    .dataframe tbody tr th {\n",
       "        vertical-align: top;\n",
       "    }\n",
       "\n",
       "    .dataframe thead th {\n",
       "        text-align: right;\n",
       "    }\n",
       "</style>\n",
       "<table border=\"1\" class=\"dataframe\">\n",
       "  <thead>\n",
       "    <tr style=\"text-align: right;\">\n",
       "      <th></th>\n",
       "      <th>IdVenta</th>\n",
       "      <th>Fecha</th>\n",
       "      <th>Fecha_Entrega</th>\n",
       "      <th>IdCanal</th>\n",
       "      <th>IdCliente</th>\n",
       "      <th>IdSucursal</th>\n",
       "      <th>IdEmpleado</th>\n",
       "      <th>IdProducto</th>\n",
       "      <th>Precio</th>\n",
       "      <th>Cantidad</th>\n",
       "    </tr>\n",
       "  </thead>\n",
       "  <tbody>\n",
       "    <tr>\n",
       "      <th>0</th>\n",
       "      <td>1</td>\n",
       "      <td>2018-03-09</td>\n",
       "      <td>2018-03-17</td>\n",
       "      <td>3</td>\n",
       "      <td>969</td>\n",
       "      <td>13</td>\n",
       "      <td>1674</td>\n",
       "      <td>42817</td>\n",
       "      <td>813.12</td>\n",
       "      <td>2</td>\n",
       "    </tr>\n",
       "    <tr>\n",
       "      <th>1</th>\n",
       "      <td>2</td>\n",
       "      <td>2018-12-28</td>\n",
       "      <td>2018-12-29</td>\n",
       "      <td>2</td>\n",
       "      <td>884</td>\n",
       "      <td>13</td>\n",
       "      <td>1674</td>\n",
       "      <td>42795</td>\n",
       "      <td>543.18</td>\n",
       "      <td>3</td>\n",
       "    </tr>\n",
       "    <tr>\n",
       "      <th>2</th>\n",
       "      <td>3</td>\n",
       "      <td>2016-03-28</td>\n",
       "      <td>2016-03-31</td>\n",
       "      <td>2</td>\n",
       "      <td>1722</td>\n",
       "      <td>13</td>\n",
       "      <td>1674</td>\n",
       "      <td>42837</td>\n",
       "      <td>430.32</td>\n",
       "      <td>1</td>\n",
       "    </tr>\n",
       "    <tr>\n",
       "      <th>3</th>\n",
       "      <td>4</td>\n",
       "      <td>2017-10-23</td>\n",
       "      <td>2017-10-24</td>\n",
       "      <td>3</td>\n",
       "      <td>2876</td>\n",
       "      <td>13</td>\n",
       "      <td>1674</td>\n",
       "      <td>42834</td>\n",
       "      <td>818.84</td>\n",
       "      <td>2</td>\n",
       "    </tr>\n",
       "    <tr>\n",
       "      <th>4</th>\n",
       "      <td>5</td>\n",
       "      <td>2017-11-22</td>\n",
       "      <td>2017-11-25</td>\n",
       "      <td>2</td>\n",
       "      <td>678</td>\n",
       "      <td>13</td>\n",
       "      <td>1674</td>\n",
       "      <td>42825</td>\n",
       "      <td>554.18</td>\n",
       "      <td>3</td>\n",
       "    </tr>\n",
       "  </tbody>\n",
       "</table>\n",
       "</div>"
      ],
      "text/plain": [
       "   IdVenta      Fecha Fecha_Entrega  IdCanal  IdCliente  IdSucursal   \n",
       "0        1 2018-03-09    2018-03-17        3        969          13  \\\n",
       "1        2 2018-12-28    2018-12-29        2        884          13   \n",
       "2        3 2016-03-28    2016-03-31        2       1722          13   \n",
       "3        4 2017-10-23    2017-10-24        3       2876          13   \n",
       "4        5 2017-11-22    2017-11-25        2        678          13   \n",
       "\n",
       "   IdEmpleado  IdProducto  Precio  Cantidad  \n",
       "0        1674       42817  813.12         2  \n",
       "1        1674       42795  543.18         3  \n",
       "2        1674       42837  430.32         1  \n",
       "3        1674       42834  818.84         2  \n",
       "4        1674       42825  554.18         3  "
      ]
     },
     "execution_count": 670,
     "metadata": {},
     "output_type": "execute_result"
    }
   ],
   "source": [
    "# Cambio tripo de dato\n",
    "venta['Cantidad'] = venta['Cantidad'].astype('int64')\n",
    "venta.head()"
   ]
  },
  {
   "cell_type": "code",
   "execution_count": 672,
   "metadata": {},
   "outputs": [
    {
     "name": "stdout",
     "output_type": "stream",
     "text": [
      "<class 'pandas.core.frame.DataFrame'>\n",
      "Index: 44845 entries, 0 to 46644\n",
      "Data columns (total 10 columns):\n",
      " #   Column         Non-Null Count  Dtype         \n",
      "---  ------         --------------  -----         \n",
      " 0   IdVenta        44845 non-null  int64         \n",
      " 1   Fecha          44845 non-null  datetime64[ns]\n",
      " 2   Fecha_Entrega  44845 non-null  datetime64[ns]\n",
      " 3   IdCanal        44845 non-null  int64         \n",
      " 4   IdCliente      44845 non-null  int64         \n",
      " 5   IdSucursal     44845 non-null  int64         \n",
      " 6   IdEmpleado     44845 non-null  int64         \n",
      " 7   IdProducto     44845 non-null  int64         \n",
      " 8   Precio         44845 non-null  float64       \n",
      " 9   Cantidad       44845 non-null  int64         \n",
      "dtypes: datetime64[ns](2), float64(1), int64(7)\n",
      "memory usage: 3.8 MB\n"
     ]
    }
   ],
   "source": [
    "venta.info()"
   ]
  },
  {
   "cell_type": "markdown",
   "metadata": {},
   "source": [
    "* Se resolvio la cantidad de valores nulos no obstante los valores nulos deben compararse con el stock ya que puede ser una venta real que no especificaron todos los datos. "
   ]
  }
 ],
 "metadata": {
  "kernelspec": {
   "display_name": "Python 3",
   "language": "python",
   "name": "python3"
  },
  "language_info": {
   "codemirror_mode": {
    "name": "ipython",
    "version": 3
   },
   "file_extension": ".py",
   "mimetype": "text/x-python",
   "name": "python",
   "nbconvert_exporter": "python",
   "pygments_lexer": "ipython3",
   "version": "3.11.2"
  }
 },
 "nbformat": 4,
 "nbformat_minor": 2
}
